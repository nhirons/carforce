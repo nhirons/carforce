{
 "cells": [
  {
   "cell_type": "markdown",
   "metadata": {},
   "source": [
    "# Predicting service operations from connected car telematics"
   ]
  },
  {
   "cell_type": "markdown",
   "metadata": {},
   "source": [
    "* Nicholas Hirons\n",
    "* Julian Kudszus\n",
    "* Soham Kudtarkar\n",
    "* Spencer Lee"
   ]
  },
  {
   "cell_type": "code",
   "execution_count": 1,
   "metadata": {
    "collapsed": true
   },
   "outputs": [],
   "source": [
    "import numpy as np\n",
    "import pandas as pd\n",
    "import importlib\n",
    "import matplotlib.pyplot as plt\n",
    "import seaborn as sns\n",
    "import sklearn as sk\n",
    "\n",
    "import importlib\n",
    "import warnings\n",
    "warnings.simplefilter('ignore')"
   ]
  },
  {
   "cell_type": "code",
   "execution_count": 2,
   "metadata": {
    "collapsed": true
   },
   "outputs": [],
   "source": [
    "df = pd.read_csv('model_data_final.csv', index_col = 0)"
   ]
  },
  {
   "cell_type": "markdown",
   "metadata": {},
   "source": [
    "# 1 Cleaning data"
   ]
  },
  {
   "cell_type": "markdown",
   "metadata": {},
   "source": [
    "## 1.1 Cleaning operation code description strings"
   ]
  },
  {
   "cell_type": "markdown",
   "metadata": {},
   "source": [
    "Operation code description strings had many spelling errors and merged words. I focussed on unmerging words using dynamic programming, but ignored any spelling mistakes."
   ]
  },
  {
   "cell_type": "code",
   "execution_count": 3,
   "metadata": {
    "collapsed": true
   },
   "outputs": [],
   "source": [
    "from wordparser import infer_spaces, separate_merged_words"
   ]
  },
  {
   "cell_type": "code",
   "execution_count": 4,
   "metadata": {
    "collapsed": true
   },
   "outputs": [],
   "source": [
    "example_string = 'REPLACE 8 INJ, HIGHANDLOWPRESS FUEL PUMPS, FUELLINES AND RAILS, RELINEFUEL TANK, FLUSH FUELSYSTEM, LOF, NEW COOLANT|||PERFORM MULTI-POINTINSPECTION|BATTERY TEST PERFORMEDAND BATTERY OK ON THISVISIT| BATTERY TERMINALS GOOD ATTHIS TIME|TIRES INSPECTED AND OK ONTHIS VISIT.||SEE LINE A|DRAW TIME|DRAW TIME'"
   ]
  },
  {
   "cell_type": "code",
   "execution_count": 5,
   "metadata": {},
   "outputs": [
    {
     "data": {
      "text/plain": [
       "'REPLACE 8 INJ, HIGHANDLOWPRESS FUEL PUMPS, FUELLINES AND RAILS, RELINEFUEL TANK, FLUSH FUELSYSTEM, LOF, NEW COOLANT|||PERFORM MULTI-POINTINSPECTION|BATTERY TEST PERFORMEDAND BATTERY OK ON THISVISIT| BATTERY TERMINALS GOOD ATTHIS TIME|TIRES INSPECTED AND OK ONTHIS VISIT.||SEE LINE A|DRAW TIME|DRAW TIME'"
      ]
     },
     "execution_count": 5,
     "metadata": {},
     "output_type": "execute_result"
    }
   ],
   "source": [
    "example_string"
   ]
  },
  {
   "cell_type": "code",
   "execution_count": 6,
   "metadata": {},
   "outputs": [
    {
     "data": {
      "text/plain": [
       "'replace inj high and low press fuel pumps fuel lines and rails reline fuel tank flush fuel system lof new coolant perform multi point inspection battery test performed and battery ok on this visit battery terminals good at this time tires inspected and ok on this visit see line a draw time draw time'"
      ]
     },
     "execution_count": 6,
     "metadata": {},
     "output_type": "execute_result"
    }
   ],
   "source": [
    "separate_merged_words(example_string)"
   ]
  },
  {
   "cell_type": "markdown",
   "metadata": {},
   "source": [
    "## 1.2 Extracting common service operations"
   ]
  },
  {
   "cell_type": "markdown",
   "metadata": {},
   "source": [
    "I manually inferred the most common service operations from the most common word pairs in our operation code description 'corpus'. For example, looking below, 'multi point inspection' and 'battery test' are clearly very common services."
   ]
  },
  {
   "cell_type": "code",
   "execution_count": 7,
   "metadata": {
    "collapsed": true
   },
   "outputs": [],
   "source": [
    "from wordparser import most_common_pairs_df"
   ]
  },
  {
   "cell_type": "code",
   "execution_count": 8,
   "metadata": {},
   "outputs": [
    {
     "data": {
      "text/html": [
       "<div>\n",
       "<style>\n",
       "    .dataframe thead tr:only-child th {\n",
       "        text-align: right;\n",
       "    }\n",
       "\n",
       "    .dataframe thead th {\n",
       "        text-align: left;\n",
       "    }\n",
       "\n",
       "    .dataframe tbody tr th {\n",
       "        vertical-align: top;\n",
       "    }\n",
       "</style>\n",
       "<table border=\"1\" class=\"dataframe\">\n",
       "  <thead>\n",
       "    <tr style=\"text-align: right;\">\n",
       "      <th></th>\n",
       "      <th>pair</th>\n",
       "      <th>count</th>\n",
       "    </tr>\n",
       "  </thead>\n",
       "  <tbody>\n",
       "    <tr>\n",
       "      <th>0</th>\n",
       "      <td>(this, visit)</td>\n",
       "      <td>8089</td>\n",
       "    </tr>\n",
       "    <tr>\n",
       "      <th>1</th>\n",
       "      <td>(on, this)</td>\n",
       "      <td>8051</td>\n",
       "    </tr>\n",
       "    <tr>\n",
       "      <th>2</th>\n",
       "      <td>(ok, on)</td>\n",
       "      <td>8003</td>\n",
       "    </tr>\n",
       "    <tr>\n",
       "      <th>3</th>\n",
       "      <td>(multi, point)</td>\n",
       "      <td>6021</td>\n",
       "    </tr>\n",
       "    <tr>\n",
       "      <th>4</th>\n",
       "      <td>(point, inspection)</td>\n",
       "      <td>6021</td>\n",
       "    </tr>\n",
       "    <tr>\n",
       "      <th>5</th>\n",
       "      <td>(inspected, and)</td>\n",
       "      <td>5786</td>\n",
       "    </tr>\n",
       "    <tr>\n",
       "      <th>6</th>\n",
       "      <td>(and, ok)</td>\n",
       "      <td>4680</td>\n",
       "    </tr>\n",
       "    <tr>\n",
       "      <th>7</th>\n",
       "      <td>(perform, multi)</td>\n",
       "      <td>3891</td>\n",
       "    </tr>\n",
       "    <tr>\n",
       "      <th>8</th>\n",
       "      <td>(battery, test)</td>\n",
       "      <td>3870</td>\n",
       "    </tr>\n",
       "    <tr>\n",
       "      <th>9</th>\n",
       "      <td>(tires, inspected)</td>\n",
       "      <td>3640</td>\n",
       "    </tr>\n",
       "  </tbody>\n",
       "</table>\n",
       "</div>"
      ],
      "text/plain": [
       "                  pair  count\n",
       "0        (this, visit)   8089\n",
       "1           (on, this)   8051\n",
       "2             (ok, on)   8003\n",
       "3       (multi, point)   6021\n",
       "4  (point, inspection)   6021\n",
       "5     (inspected, and)   5786\n",
       "6            (and, ok)   4680\n",
       "7     (perform, multi)   3891\n",
       "8      (battery, test)   3870\n",
       "9   (tires, inspected)   3640"
      ]
     },
     "execution_count": 8,
     "metadata": {},
     "output_type": "execute_result"
    }
   ],
   "source": [
    "most_common_pairs_df(df['op_descriptions']).head(10)"
   ]
  },
  {
   "cell_type": "markdown",
   "metadata": {},
   "source": [
    "# 2 Creating input features and output variables"
   ]
  },
  {
   "cell_type": "markdown",
   "metadata": {},
   "source": [
    "## 2.1 Creating output variables from most common operations above"
   ]
  },
  {
   "cell_type": "code",
   "execution_count": 9,
   "metadata": {},
   "outputs": [
    {
     "data": {
      "text/html": [
       "<div>\n",
       "<style>\n",
       "    .dataframe thead tr:only-child th {\n",
       "        text-align: right;\n",
       "    }\n",
       "\n",
       "    .dataframe thead th {\n",
       "        text-align: left;\n",
       "    }\n",
       "\n",
       "    .dataframe tbody tr th {\n",
       "        vertical-align: top;\n",
       "    }\n",
       "</style>\n",
       "<table border=\"1\" class=\"dataframe\">\n",
       "  <thead>\n",
       "    <tr style=\"text-align: right;\">\n",
       "      <th></th>\n",
       "      <th>y_bespoke</th>\n",
       "      <th>y_multi_point_inspection</th>\n",
       "      <th>y_battery_test</th>\n",
       "      <th>y_tire_inflation</th>\n",
       "      <th>y_hazardous_waste</th>\n",
       "      <th>y_change_oil</th>\n",
       "      <th>y_filter</th>\n",
       "      <th>y_safety_systems</th>\n",
       "      <th>y_nitro_fill</th>\n",
       "      <th>y_repair_or_refinish</th>\n",
       "    </tr>\n",
       "  </thead>\n",
       "  <tbody>\n",
       "    <tr>\n",
       "      <th>0</th>\n",
       "      <td>0</td>\n",
       "      <td>1</td>\n",
       "      <td>1</td>\n",
       "      <td>0</td>\n",
       "      <td>0</td>\n",
       "      <td>0</td>\n",
       "      <td>1</td>\n",
       "      <td>0</td>\n",
       "      <td>0</td>\n",
       "      <td>0</td>\n",
       "    </tr>\n",
       "    <tr>\n",
       "      <th>1</th>\n",
       "      <td>0</td>\n",
       "      <td>0</td>\n",
       "      <td>0</td>\n",
       "      <td>0</td>\n",
       "      <td>0</td>\n",
       "      <td>0</td>\n",
       "      <td>1</td>\n",
       "      <td>0</td>\n",
       "      <td>0</td>\n",
       "      <td>0</td>\n",
       "    </tr>\n",
       "    <tr>\n",
       "      <th>2</th>\n",
       "      <td>0</td>\n",
       "      <td>1</td>\n",
       "      <td>1</td>\n",
       "      <td>0</td>\n",
       "      <td>0</td>\n",
       "      <td>1</td>\n",
       "      <td>1</td>\n",
       "      <td>0</td>\n",
       "      <td>0</td>\n",
       "      <td>0</td>\n",
       "    </tr>\n",
       "    <tr>\n",
       "      <th>3</th>\n",
       "      <td>0</td>\n",
       "      <td>1</td>\n",
       "      <td>1</td>\n",
       "      <td>0</td>\n",
       "      <td>0</td>\n",
       "      <td>0</td>\n",
       "      <td>1</td>\n",
       "      <td>0</td>\n",
       "      <td>0</td>\n",
       "      <td>1</td>\n",
       "    </tr>\n",
       "    <tr>\n",
       "      <th>4</th>\n",
       "      <td>0</td>\n",
       "      <td>0</td>\n",
       "      <td>0</td>\n",
       "      <td>0</td>\n",
       "      <td>0</td>\n",
       "      <td>0</td>\n",
       "      <td>0</td>\n",
       "      <td>0</td>\n",
       "      <td>0</td>\n",
       "      <td>1</td>\n",
       "    </tr>\n",
       "  </tbody>\n",
       "</table>\n",
       "</div>"
      ],
      "text/plain": [
       "   y_bespoke  y_multi_point_inspection  y_battery_test  y_tire_inflation  \\\n",
       "0          0                         1               1                 0   \n",
       "1          0                         0               0                 0   \n",
       "2          0                         1               1                 0   \n",
       "3          0                         1               1                 0   \n",
       "4          0                         0               0                 0   \n",
       "\n",
       "   y_hazardous_waste  y_change_oil  y_filter  y_safety_systems  y_nitro_fill  \\\n",
       "0                  0             0         1                 0             0   \n",
       "1                  0             0         1                 0             0   \n",
       "2                  0             1         1                 0             0   \n",
       "3                  0             0         1                 0             0   \n",
       "4                  0             0         0                 0             0   \n",
       "\n",
       "   y_repair_or_refinish  \n",
       "0                     0  \n",
       "1                     0  \n",
       "2                     0  \n",
       "3                     1  \n",
       "4                     1  "
      ]
     },
     "execution_count": 9,
     "metadata": {},
     "output_type": "execute_result"
    }
   ],
   "source": [
    "df[[col for col in df.columns if 'y_' in col]].head()"
   ]
  },
  {
   "cell_type": "markdown",
   "metadata": {},
   "source": [
    "## 2.2 Creating input features"
   ]
  },
  {
   "cell_type": "markdown",
   "metadata": {},
   "source": [
    "Various important input features were one hot encoded. My one-hot-encoding function allows a rank threshold input and/or a count threshold input. For a rank threshold of n, any category that is below the n-th rank in frequency will be mapped to 'other'. For a count threshold of k, any category with a frequency below k will be mapped to 'other'. The function will convert the most categories to other out of the rank and count thresholds."
   ]
  },
  {
   "cell_type": "code",
   "execution_count": 10,
   "metadata": {
    "collapsed": true
   },
   "outputs": [],
   "source": [
    "from onehotencoding import one_hot_encode, add_one_hot_encoding"
   ]
  },
  {
   "cell_type": "markdown",
   "metadata": {},
   "source": [
    "Below is an example of adding one hot encoding for error codes, where codes with frequency below 500 are mapped to 'other'."
   ]
  },
  {
   "cell_type": "code",
   "execution_count": 11,
   "metadata": {},
   "outputs": [
    {
     "data": {
      "text/html": [
       "<div>\n",
       "<style>\n",
       "    .dataframe thead tr:only-child th {\n",
       "        text-align: right;\n",
       "    }\n",
       "\n",
       "    .dataframe thead th {\n",
       "        text-align: left;\n",
       "    }\n",
       "\n",
       "    .dataframe tbody tr th {\n",
       "        vertical-align: top;\n",
       "    }\n",
       "</style>\n",
       "<table border=\"1\" class=\"dataframe\">\n",
       "  <thead>\n",
       "    <tr style=\"text-align: right;\">\n",
       "      <th></th>\n",
       "      <th>error_code</th>\n",
       "      <th>error_code_E302</th>\n",
       "      <th>error_code_E412</th>\n",
       "      <th>error_code_E420</th>\n",
       "      <th>error_code_E421</th>\n",
       "      <th>error_code_E502</th>\n",
       "      <th>error_code_E601</th>\n",
       "      <th>error_code_other</th>\n",
       "    </tr>\n",
       "  </thead>\n",
       "  <tbody>\n",
       "    <tr>\n",
       "      <th>0</th>\n",
       "      <td>E601</td>\n",
       "      <td>0</td>\n",
       "      <td>0</td>\n",
       "      <td>0</td>\n",
       "      <td>0</td>\n",
       "      <td>0</td>\n",
       "      <td>1</td>\n",
       "      <td>0</td>\n",
       "    </tr>\n",
       "    <tr>\n",
       "      <th>1</th>\n",
       "      <td>E601</td>\n",
       "      <td>0</td>\n",
       "      <td>0</td>\n",
       "      <td>0</td>\n",
       "      <td>0</td>\n",
       "      <td>0</td>\n",
       "      <td>1</td>\n",
       "      <td>0</td>\n",
       "    </tr>\n",
       "    <tr>\n",
       "      <th>2</th>\n",
       "      <td>E412</td>\n",
       "      <td>0</td>\n",
       "      <td>1</td>\n",
       "      <td>0</td>\n",
       "      <td>0</td>\n",
       "      <td>0</td>\n",
       "      <td>0</td>\n",
       "      <td>0</td>\n",
       "    </tr>\n",
       "    <tr>\n",
       "      <th>3</th>\n",
       "      <td>E420</td>\n",
       "      <td>0</td>\n",
       "      <td>0</td>\n",
       "      <td>1</td>\n",
       "      <td>0</td>\n",
       "      <td>0</td>\n",
       "      <td>0</td>\n",
       "      <td>0</td>\n",
       "    </tr>\n",
       "    <tr>\n",
       "      <th>4</th>\n",
       "      <td>E421</td>\n",
       "      <td>0</td>\n",
       "      <td>0</td>\n",
       "      <td>0</td>\n",
       "      <td>1</td>\n",
       "      <td>0</td>\n",
       "      <td>0</td>\n",
       "      <td>0</td>\n",
       "    </tr>\n",
       "  </tbody>\n",
       "</table>\n",
       "</div>"
      ],
      "text/plain": [
       "  error_code  error_code_E302  error_code_E412  error_code_E420  \\\n",
       "0       E601                0                0                0   \n",
       "1       E601                0                0                0   \n",
       "2       E412                0                1                0   \n",
       "3       E420                0                0                1   \n",
       "4       E421                0                0                0   \n",
       "\n",
       "   error_code_E421  error_code_E502  error_code_E601  error_code_other  \n",
       "0                0                0                1                 0  \n",
       "1                0                0                1                 0  \n",
       "2                0                0                0                 0  \n",
       "3                0                0                0                 0  \n",
       "4                1                0                0                 0  "
      ]
     },
     "execution_count": 11,
     "metadata": {},
     "output_type": "execute_result"
    }
   ],
   "source": [
    "add_one_hot_encoding(df[['error_code']], ['error_code'], count_threshold = 500).head()"
   ]
  },
  {
   "cell_type": "markdown",
   "metadata": {
    "collapsed": true
   },
   "source": [
    "# 3 Model training and evaluation"
   ]
  },
  {
   "cell_type": "markdown",
   "metadata": {},
   "source": [
    "## 3.1 Create training and test sets"
   ]
  },
  {
   "cell_type": "code",
   "execution_count": 12,
   "metadata": {
    "collapsed": true
   },
   "outputs": [],
   "source": [
    "from sklearn.model_selection import train_test_split\n",
    "from sklearn.preprocessing import StandardScaler\n",
    "from sklearn.neighbors import KNeighborsClassifier\n",
    "from sklearn.cross_validation import StratifiedKFold\n",
    "from sklearn.grid_search import GridSearchCV"
   ]
  },
  {
   "cell_type": "code",
   "execution_count": 13,
   "metadata": {
    "collapsed": true
   },
   "outputs": [],
   "source": [
    "df_y = df[[col for col in df.columns if 'y_' in col]]"
   ]
  },
  {
   "cell_type": "code",
   "execution_count": 14,
   "metadata": {},
   "outputs": [
    {
     "data": {
      "text/html": [
       "<div>\n",
       "<style>\n",
       "    .dataframe thead tr:only-child th {\n",
       "        text-align: right;\n",
       "    }\n",
       "\n",
       "    .dataframe thead th {\n",
       "        text-align: left;\n",
       "    }\n",
       "\n",
       "    .dataframe tbody tr th {\n",
       "        vertical-align: top;\n",
       "    }\n",
       "</style>\n",
       "<table border=\"1\" class=\"dataframe\">\n",
       "  <thead>\n",
       "    <tr style=\"text-align: right;\">\n",
       "      <th></th>\n",
       "      <th>y_bespoke</th>\n",
       "      <th>y_multi_point_inspection</th>\n",
       "      <th>y_battery_test</th>\n",
       "      <th>y_tire_inflation</th>\n",
       "      <th>y_hazardous_waste</th>\n",
       "      <th>y_change_oil</th>\n",
       "      <th>y_filter</th>\n",
       "      <th>y_safety_systems</th>\n",
       "      <th>y_nitro_fill</th>\n",
       "      <th>y_repair_or_refinish</th>\n",
       "    </tr>\n",
       "  </thead>\n",
       "  <tbody>\n",
       "    <tr>\n",
       "      <th>0</th>\n",
       "      <td>0</td>\n",
       "      <td>1</td>\n",
       "      <td>1</td>\n",
       "      <td>0</td>\n",
       "      <td>0</td>\n",
       "      <td>0</td>\n",
       "      <td>1</td>\n",
       "      <td>0</td>\n",
       "      <td>0</td>\n",
       "      <td>0</td>\n",
       "    </tr>\n",
       "    <tr>\n",
       "      <th>1</th>\n",
       "      <td>0</td>\n",
       "      <td>0</td>\n",
       "      <td>0</td>\n",
       "      <td>0</td>\n",
       "      <td>0</td>\n",
       "      <td>0</td>\n",
       "      <td>1</td>\n",
       "      <td>0</td>\n",
       "      <td>0</td>\n",
       "      <td>0</td>\n",
       "    </tr>\n",
       "    <tr>\n",
       "      <th>2</th>\n",
       "      <td>0</td>\n",
       "      <td>1</td>\n",
       "      <td>1</td>\n",
       "      <td>0</td>\n",
       "      <td>0</td>\n",
       "      <td>1</td>\n",
       "      <td>1</td>\n",
       "      <td>0</td>\n",
       "      <td>0</td>\n",
       "      <td>0</td>\n",
       "    </tr>\n",
       "    <tr>\n",
       "      <th>3</th>\n",
       "      <td>0</td>\n",
       "      <td>1</td>\n",
       "      <td>1</td>\n",
       "      <td>0</td>\n",
       "      <td>0</td>\n",
       "      <td>0</td>\n",
       "      <td>1</td>\n",
       "      <td>0</td>\n",
       "      <td>0</td>\n",
       "      <td>1</td>\n",
       "    </tr>\n",
       "    <tr>\n",
       "      <th>4</th>\n",
       "      <td>0</td>\n",
       "      <td>0</td>\n",
       "      <td>0</td>\n",
       "      <td>0</td>\n",
       "      <td>0</td>\n",
       "      <td>0</td>\n",
       "      <td>0</td>\n",
       "      <td>0</td>\n",
       "      <td>0</td>\n",
       "      <td>1</td>\n",
       "    </tr>\n",
       "  </tbody>\n",
       "</table>\n",
       "</div>"
      ],
      "text/plain": [
       "   y_bespoke  y_multi_point_inspection  y_battery_test  y_tire_inflation  \\\n",
       "0          0                         1               1                 0   \n",
       "1          0                         0               0                 0   \n",
       "2          0                         1               1                 0   \n",
       "3          0                         1               1                 0   \n",
       "4          0                         0               0                 0   \n",
       "\n",
       "   y_hazardous_waste  y_change_oil  y_filter  y_safety_systems  y_nitro_fill  \\\n",
       "0                  0             0         1                 0             0   \n",
       "1                  0             0         1                 0             0   \n",
       "2                  0             1         1                 0             0   \n",
       "3                  0             0         1                 0             0   \n",
       "4                  0             0         0                 0             0   \n",
       "\n",
       "   y_repair_or_refinish  \n",
       "0                     0  \n",
       "1                     0  \n",
       "2                     0  \n",
       "3                     1  \n",
       "4                     1  "
      ]
     },
     "execution_count": 14,
     "metadata": {},
     "output_type": "execute_result"
    }
   ],
   "source": [
    "df_y.head()"
   ]
  },
  {
   "cell_type": "code",
   "execution_count": 15,
   "metadata": {
    "collapsed": true
   },
   "outputs": [],
   "source": [
    "df_x = df.drop([col for col in df.columns if 'y_' in col], axis = 1)"
   ]
  },
  {
   "cell_type": "markdown",
   "metadata": {},
   "source": [
    "Drop columns not to be used in model training."
   ]
  },
  {
   "cell_type": "code",
   "execution_count": 16,
   "metadata": {
    "collapsed": true
   },
   "outputs": [],
   "source": [
    "df_x = df_x.drop(['make', 'op_descriptions', 'date', 'fuel',\n",
    "                  'appointment_month', 'season', 'year', 'error_code'], axis = 1)"
   ]
  },
  {
   "cell_type": "markdown",
   "metadata": {},
   "source": [
    "Check for null values."
   ]
  },
  {
   "cell_type": "code",
   "execution_count": 17,
   "metadata": {},
   "outputs": [
    {
     "data": {
      "text/plain": [
       "make_ford             0\n",
       "make_honda            0\n",
       "make_hyundai          0\n",
       "make_other            0\n",
       "make_suzuki           0\n",
       "engine_size         485\n",
       "mileage             107\n",
       "fuel_diesel           0\n",
       "fuel_gas              0\n",
       "season_fall           0\n",
       "season_spring         0\n",
       "season_summer         0\n",
       "season_winter         0\n",
       "age                   0\n",
       "error_code_e302       0\n",
       "error_code_e412       0\n",
       "error_code_e420       0\n",
       "error_code_e421       0\n",
       "error_code_e502       0\n",
       "error_code_e601       0\n",
       "error_code_other      0\n",
       "fuel_other            0\n",
       "dtype: int64"
      ]
     },
     "execution_count": 17,
     "metadata": {},
     "output_type": "execute_result"
    }
   ],
   "source": [
    "df_x.isnull().sum()"
   ]
  },
  {
   "cell_type": "markdown",
   "metadata": {},
   "source": [
    "For simplicity, fill NA values with median."
   ]
  },
  {
   "cell_type": "code",
   "execution_count": 18,
   "metadata": {
    "collapsed": true
   },
   "outputs": [],
   "source": [
    "df_x = df_x.fillna(df_x.median())"
   ]
  },
  {
   "cell_type": "markdown",
   "metadata": {},
   "source": [
    "I examined logistic regression, random forests, SVMs and k-Nearest Neighbors for each output variable. Due to output class imbalance, our key metric was F1 score. Our results suggested that the only algorithm that had predictive value for any output variable was k-NN.\n",
    "\n",
    "Below I show an example of training k-NN using grid search on stratified 5-fold cross validation. All inputs were standard scaled."
   ]
  },
  {
   "cell_type": "code",
   "execution_count": 19,
   "metadata": {
    "collapsed": true
   },
   "outputs": [],
   "source": [
    "scaler = StandardScaler()"
   ]
  },
  {
   "cell_type": "code",
   "execution_count": 20,
   "metadata": {
    "collapsed": true
   },
   "outputs": [],
   "source": [
    "df_x = scaler.fit_transform(df_x)"
   ]
  },
  {
   "cell_type": "code",
   "execution_count": 21,
   "metadata": {
    "collapsed": true
   },
   "outputs": [],
   "source": [
    "x_train, x_test, y_train, y_test = train_test_split(df_x, df_y, test_size=0.25, random_state=123)"
   ]
  },
  {
   "cell_type": "markdown",
   "metadata": {},
   "source": [
    "## 3.2 Model training on k-NN"
   ]
  },
  {
   "cell_type": "code",
   "execution_count": 22,
   "metadata": {},
   "outputs": [
    {
     "name": "stdout",
     "output_type": "stream",
     "text": [
      "Fitting y_bespoke\n",
      "Fitting 5 folds for each of 9 candidates, totalling 45 fits\n"
     ]
    },
    {
     "name": "stderr",
     "output_type": "stream",
     "text": [
      "[Parallel(n_jobs=1)]: Done  45 out of  45 | elapsed:   18.7s finished\n"
     ]
    },
    {
     "name": "stdout",
     "output_type": "stream",
     "text": [
      "Fitting y_multi_point_inspection\n",
      "Fitting 5 folds for each of 9 candidates, totalling 45 fits\n"
     ]
    },
    {
     "name": "stderr",
     "output_type": "stream",
     "text": [
      "[Parallel(n_jobs=1)]: Done  45 out of  45 | elapsed:   22.7s finished\n"
     ]
    },
    {
     "name": "stdout",
     "output_type": "stream",
     "text": [
      "Fitting y_battery_test\n",
      "Fitting 5 folds for each of 9 candidates, totalling 45 fits\n"
     ]
    },
    {
     "name": "stderr",
     "output_type": "stream",
     "text": [
      "[Parallel(n_jobs=1)]: Done  45 out of  45 | elapsed:   19.7s finished\n"
     ]
    },
    {
     "name": "stdout",
     "output_type": "stream",
     "text": [
      "Fitting y_tire_inflation\n",
      "Fitting 5 folds for each of 9 candidates, totalling 45 fits\n"
     ]
    },
    {
     "name": "stderr",
     "output_type": "stream",
     "text": [
      "[Parallel(n_jobs=1)]: Done  45 out of  45 | elapsed:   19.8s finished\n"
     ]
    },
    {
     "name": "stdout",
     "output_type": "stream",
     "text": [
      "Fitting y_hazardous_waste\n",
      "Fitting 5 folds for each of 9 candidates, totalling 45 fits\n"
     ]
    },
    {
     "name": "stderr",
     "output_type": "stream",
     "text": [
      "[Parallel(n_jobs=1)]: Done  45 out of  45 | elapsed:   18.5s finished\n"
     ]
    },
    {
     "name": "stdout",
     "output_type": "stream",
     "text": [
      "Fitting y_change_oil\n",
      "Fitting 5 folds for each of 9 candidates, totalling 45 fits\n"
     ]
    },
    {
     "name": "stderr",
     "output_type": "stream",
     "text": [
      "[Parallel(n_jobs=1)]: Done  45 out of  45 | elapsed:   20.1s finished\n"
     ]
    },
    {
     "name": "stdout",
     "output_type": "stream",
     "text": [
      "Fitting y_filter\n",
      "Fitting 5 folds for each of 9 candidates, totalling 45 fits\n"
     ]
    },
    {
     "name": "stderr",
     "output_type": "stream",
     "text": [
      "[Parallel(n_jobs=1)]: Done  45 out of  45 | elapsed:   18.6s finished\n"
     ]
    },
    {
     "name": "stdout",
     "output_type": "stream",
     "text": [
      "Fitting y_safety_systems\n",
      "Fitting 5 folds for each of 9 candidates, totalling 45 fits\n"
     ]
    },
    {
     "name": "stderr",
     "output_type": "stream",
     "text": [
      "[Parallel(n_jobs=1)]: Done  45 out of  45 | elapsed:   20.4s finished\n"
     ]
    },
    {
     "name": "stdout",
     "output_type": "stream",
     "text": [
      "Fitting y_nitro_fill\n",
      "Fitting 5 folds for each of 9 candidates, totalling 45 fits\n"
     ]
    },
    {
     "name": "stderr",
     "output_type": "stream",
     "text": [
      "[Parallel(n_jobs=1)]: Done  45 out of  45 | elapsed:   18.2s finished\n"
     ]
    },
    {
     "name": "stdout",
     "output_type": "stream",
     "text": [
      "Fitting y_repair_or_refinish\n",
      "Fitting 5 folds for each of 9 candidates, totalling 45 fits\n"
     ]
    },
    {
     "name": "stderr",
     "output_type": "stream",
     "text": [
      "[Parallel(n_jobs=1)]: Done  45 out of  45 | elapsed:   17.5s finished\n"
     ]
    }
   ],
   "source": [
    "knn_model_dict = {}\n",
    "\n",
    "for i, output_col in enumerate(df_y.columns):\n",
    "    \n",
    "    print('Fitting', output_col)\n",
    "    y = y_train[output_col]\n",
    "    \n",
    "    parameter_grid = {\n",
    "                 'n_neighbors' : [1,3,10],\n",
    "                 'leaf_size': [10, 30, 100]\n",
    "                 }\n",
    "    knn = KNeighborsClassifier()\n",
    "    cross_validation = StratifiedKFold(y, n_folds=5, random_state = 123)\n",
    "\n",
    "    grid_search = GridSearchCV(knn,\n",
    "                               scoring='f1',\n",
    "                               param_grid=parameter_grid,\n",
    "                               cv=cross_validation,\n",
    "                               verbose = 1,\n",
    "                               refit = True)\n",
    "\n",
    "    grid_search.fit(x_train, y)\n",
    "    knn_model_dict[output_col] = grid_search"
   ]
  },
  {
   "cell_type": "markdown",
   "metadata": {},
   "source": [
    "Initially, we had evaluated our model on the existing training set. This yielded very weak F1-scores for every output besides 'repair or refinish', which, coincidentally, we considered to be the most important output variable (consumers and service providers would want to know ahead of time whether actual work needs to be done to the car)."
   ]
  },
  {
   "cell_type": "code",
   "execution_count": 23,
   "metadata": {},
   "outputs": [
    {
     "data": {
      "text/html": [
       "<div>\n",
       "<style>\n",
       "    .dataframe thead tr:only-child th {\n",
       "        text-align: right;\n",
       "    }\n",
       "\n",
       "    .dataframe thead th {\n",
       "        text-align: left;\n",
       "    }\n",
       "\n",
       "    .dataframe tbody tr th {\n",
       "        vertical-align: top;\n",
       "    }\n",
       "</style>\n",
       "<table border=\"1\" class=\"dataframe\">\n",
       "  <thead>\n",
       "    <tr style=\"text-align: right;\">\n",
       "      <th></th>\n",
       "      <th>accuracy</th>\n",
       "      <th>precision</th>\n",
       "      <th>recall</th>\n",
       "      <th>f-score</th>\n",
       "    </tr>\n",
       "  </thead>\n",
       "  <tbody>\n",
       "    <tr>\n",
       "      <th>bespoke</th>\n",
       "      <td>0.567282</td>\n",
       "      <td>0.015625</td>\n",
       "      <td>0.039082</td>\n",
       "      <td>0.022325</td>\n",
       "    </tr>\n",
       "    <tr>\n",
       "      <th>multi point inspection</th>\n",
       "      <td>0.614525</td>\n",
       "      <td>0.116194</td>\n",
       "      <td>0.310210</td>\n",
       "      <td>0.169063</td>\n",
       "    </tr>\n",
       "    <tr>\n",
       "      <th>battery test</th>\n",
       "      <td>0.683505</td>\n",
       "      <td>0.101295</td>\n",
       "      <td>0.191011</td>\n",
       "      <td>0.132385</td>\n",
       "    </tr>\n",
       "    <tr>\n",
       "      <th>tire inflation</th>\n",
       "      <td>0.781943</td>\n",
       "      <td>0.102784</td>\n",
       "      <td>0.093796</td>\n",
       "      <td>0.098084</td>\n",
       "    </tr>\n",
       "    <tr>\n",
       "      <th>hazardous waste</th>\n",
       "      <td>0.818008</td>\n",
       "      <td>0.123746</td>\n",
       "      <td>0.072301</td>\n",
       "      <td>0.091274</td>\n",
       "    </tr>\n",
       "    <tr>\n",
       "      <th>change oil</th>\n",
       "      <td>0.800716</td>\n",
       "      <td>0.103495</td>\n",
       "      <td>0.075232</td>\n",
       "      <td>0.087129</td>\n",
       "    </tr>\n",
       "    <tr>\n",
       "      <th>filter</th>\n",
       "      <td>0.671216</td>\n",
       "      <td>0.091295</td>\n",
       "      <td>0.178798</td>\n",
       "      <td>0.120872</td>\n",
       "    </tr>\n",
       "    <tr>\n",
       "      <th>belts and hoses</th>\n",
       "      <td>0.812759</td>\n",
       "      <td>0.046083</td>\n",
       "      <td>0.024426</td>\n",
       "      <td>0.031928</td>\n",
       "    </tr>\n",
       "    <tr>\n",
       "      <th>air filter</th>\n",
       "      <td>0.824060</td>\n",
       "      <td>0.141964</td>\n",
       "      <td>0.077675</td>\n",
       "      <td>0.100410</td>\n",
       "    </tr>\n",
       "    <tr>\n",
       "      <th>safety systems</th>\n",
       "      <td>0.796023</td>\n",
       "      <td>0.048851</td>\n",
       "      <td>0.033219</td>\n",
       "      <td>0.039546</td>\n",
       "    </tr>\n",
       "    <tr>\n",
       "      <th>nitro fill</th>\n",
       "      <td>0.840919</td>\n",
       "      <td>0.166456</td>\n",
       "      <td>0.064485</td>\n",
       "      <td>0.092958</td>\n",
       "    </tr>\n",
       "    <tr>\n",
       "      <th>repair or refinish</th>\n",
       "      <td>0.983511</td>\n",
       "      <td>0.931620</td>\n",
       "      <td>0.938447</td>\n",
       "      <td>0.935021</td>\n",
       "    </tr>\n",
       "  </tbody>\n",
       "</table>\n",
       "</div>"
      ],
      "text/plain": [
       "                        accuracy  precision    recall   f-score\n",
       "bespoke                 0.567282   0.015625  0.039082  0.022325\n",
       "multi point inspection  0.614525   0.116194  0.310210  0.169063\n",
       "battery test            0.683505   0.101295  0.191011  0.132385\n",
       "tire inflation          0.781943   0.102784  0.093796  0.098084\n",
       "hazardous waste         0.818008   0.123746  0.072301  0.091274\n",
       "change oil              0.800716   0.103495  0.075232  0.087129\n",
       "filter                  0.671216   0.091295  0.178798  0.120872\n",
       "belts and hoses         0.812759   0.046083  0.024426  0.031928\n",
       "air filter              0.824060   0.141964  0.077675  0.100410\n",
       "safety systems          0.796023   0.048851  0.033219  0.039546\n",
       "nitro fill              0.840919   0.166456  0.064485  0.092958\n",
       "repair or refinish      0.983511   0.931620  0.938447  0.935021"
      ]
     },
     "execution_count": 23,
     "metadata": {},
     "output_type": "execute_result"
    }
   ],
   "source": [
    "refit_results_df = pd.read_csv('knn_results_refit.csv', index_col = 0)\n",
    "refit_results_df"
   ]
  },
  {
   "cell_type": "code",
   "execution_count": 24,
   "metadata": {},
   "outputs": [
    {
     "data": {
      "image/png": "[encoded data removed]",
      "text/plain": [
       "<matplotlib.figure.Figure at 0x11d1afb70>"
      ]
     },
     "metadata": {},
     "output_type": "display_data"
    }
   ],
   "source": [
    "sns.barplot(x = refit_results_df['f-score'].sort_values().index,\n",
    "            y = refit_results_df['f-score'].sort_values())\n",
    "plt.xticks(rotation=45, ha = 'right')\n",
    "plt.show()"
   ]
  },
  {
   "cell_type": "markdown",
   "metadata": {},
   "source": [
    "However, this result is not particularly useful or interpretable, as it will overfit on the training and CV set. We need to consider performance on the test set."
   ]
  },
  {
   "cell_type": "code",
   "execution_count": 25,
   "metadata": {
    "collapsed": true
   },
   "outputs": [],
   "source": [
    "knn_results = pd.DataFrame()\n",
    "\n",
    "for output_col in df_y.columns:\n",
    "    \n",
    "    y_pred = knn_model_dict[output_col].predict(x_test)\n",
    "    \n",
    "    knn_results.loc[output_col, 'leaf size'] = knn_model_dict[output_col].best_params_['leaf_size']\n",
    "    knn_results.loc[output_col, 'n neighbors'] = knn_model_dict[output_col].best_params_['n_neighbors']\n",
    "    knn_results.loc[output_col, 'accuracy'] = round(sk.metrics.accuracy_score(y_test[output_col], y_pred),2)\n",
    "    knn_results.loc[output_col, 'precision'] = round(sk.metrics.precision_score(y_test[output_col], y_pred),2)\n",
    "    knn_results.loc[output_col, 'recall'] = round(sk.metrics.recall_score(y_test[output_col], y_pred),2)\n",
    "    knn_results.loc[output_col, 'f-score'] = round(sk.metrics.f1_score(y_test[output_col], y_pred),2)\n",
    "\n",
    "knn_results = knn_results.sort_values(by = 'f-score', ascending = False)\n",
    "knn_results.index = [row[2:].replace('_', ' ') for row in knn_results.index]"
   ]
  },
  {
   "cell_type": "code",
   "execution_count": 26,
   "metadata": {},
   "outputs": [
    {
     "data": {
      "text/html": [
       "<div>\n",
       "<style>\n",
       "    .dataframe thead tr:only-child th {\n",
       "        text-align: right;\n",
       "    }\n",
       "\n",
       "    .dataframe thead th {\n",
       "        text-align: left;\n",
       "    }\n",
       "\n",
       "    .dataframe tbody tr th {\n",
       "        vertical-align: top;\n",
       "    }\n",
       "</style>\n",
       "<table border=\"1\" class=\"dataframe\">\n",
       "  <thead>\n",
       "    <tr style=\"text-align: right;\">\n",
       "      <th></th>\n",
       "      <th>leaf size</th>\n",
       "      <th>n neighbors</th>\n",
       "      <th>accuracy</th>\n",
       "      <th>precision</th>\n",
       "      <th>recall</th>\n",
       "      <th>f-score</th>\n",
       "    </tr>\n",
       "  </thead>\n",
       "  <tbody>\n",
       "    <tr>\n",
       "      <th>tire inflation</th>\n",
       "      <td>30.0</td>\n",
       "      <td>3.0</td>\n",
       "      <td>0.92</td>\n",
       "      <td>0.66</td>\n",
       "      <td>0.67</td>\n",
       "      <td>0.67</td>\n",
       "    </tr>\n",
       "    <tr>\n",
       "      <th>multi point inspection</th>\n",
       "      <td>30.0</td>\n",
       "      <td>3.0</td>\n",
       "      <td>0.68</td>\n",
       "      <td>0.55</td>\n",
       "      <td>0.53</td>\n",
       "      <td>0.54</td>\n",
       "    </tr>\n",
       "    <tr>\n",
       "      <th>bespoke</th>\n",
       "      <td>100.0</td>\n",
       "      <td>1.0</td>\n",
       "      <td>0.65</td>\n",
       "      <td>0.45</td>\n",
       "      <td>0.46</td>\n",
       "      <td>0.46</td>\n",
       "    </tr>\n",
       "    <tr>\n",
       "      <th>battery test</th>\n",
       "      <td>10.0</td>\n",
       "      <td>1.0</td>\n",
       "      <td>0.73</td>\n",
       "      <td>0.45</td>\n",
       "      <td>0.42</td>\n",
       "      <td>0.44</td>\n",
       "    </tr>\n",
       "    <tr>\n",
       "      <th>hazardous waste</th>\n",
       "      <td>100.0</td>\n",
       "      <td>1.0</td>\n",
       "      <td>0.91</td>\n",
       "      <td>0.41</td>\n",
       "      <td>0.45</td>\n",
       "      <td>0.43</td>\n",
       "    </tr>\n",
       "    <tr>\n",
       "      <th>filter</th>\n",
       "      <td>10.0</td>\n",
       "      <td>1.0</td>\n",
       "      <td>0.69</td>\n",
       "      <td>0.40</td>\n",
       "      <td>0.38</td>\n",
       "      <td>0.39</td>\n",
       "    </tr>\n",
       "    <tr>\n",
       "      <th>nitro fill</th>\n",
       "      <td>100.0</td>\n",
       "      <td>3.0</td>\n",
       "      <td>0.95</td>\n",
       "      <td>0.41</td>\n",
       "      <td>0.34</td>\n",
       "      <td>0.37</td>\n",
       "    </tr>\n",
       "    <tr>\n",
       "      <th>safety systems</th>\n",
       "      <td>10.0</td>\n",
       "      <td>1.0</td>\n",
       "      <td>0.88</td>\n",
       "      <td>0.31</td>\n",
       "      <td>0.29</td>\n",
       "      <td>0.30</td>\n",
       "    </tr>\n",
       "    <tr>\n",
       "      <th>change oil</th>\n",
       "      <td>10.0</td>\n",
       "      <td>1.0</td>\n",
       "      <td>0.85</td>\n",
       "      <td>0.20</td>\n",
       "      <td>0.20</td>\n",
       "      <td>0.20</td>\n",
       "    </tr>\n",
       "    <tr>\n",
       "      <th>repair or refinish</th>\n",
       "      <td>100.0</td>\n",
       "      <td>1.0</td>\n",
       "      <td>0.80</td>\n",
       "      <td>0.21</td>\n",
       "      <td>0.18</td>\n",
       "      <td>0.19</td>\n",
       "    </tr>\n",
       "  </tbody>\n",
       "</table>\n",
       "</div>"
      ],
      "text/plain": [
       "                        leaf size  n neighbors  accuracy  precision  recall  \\\n",
       "tire inflation               30.0          3.0      0.92       0.66    0.67   \n",
       "multi point inspection       30.0          3.0      0.68       0.55    0.53   \n",
       "bespoke                     100.0          1.0      0.65       0.45    0.46   \n",
       "battery test                 10.0          1.0      0.73       0.45    0.42   \n",
       "hazardous waste             100.0          1.0      0.91       0.41    0.45   \n",
       "filter                       10.0          1.0      0.69       0.40    0.38   \n",
       "nitro fill                  100.0          3.0      0.95       0.41    0.34   \n",
       "safety systems               10.0          1.0      0.88       0.31    0.29   \n",
       "change oil                   10.0          1.0      0.85       0.20    0.20   \n",
       "repair or refinish          100.0          1.0      0.80       0.21    0.18   \n",
       "\n",
       "                        f-score  \n",
       "tire inflation             0.67  \n",
       "multi point inspection     0.54  \n",
       "bespoke                    0.46  \n",
       "battery test               0.44  \n",
       "hazardous waste            0.43  \n",
       "filter                     0.39  \n",
       "nitro fill                 0.37  \n",
       "safety systems             0.30  \n",
       "change oil                 0.20  \n",
       "repair or refinish         0.19  "
      ]
     },
     "execution_count": 26,
     "metadata": {},
     "output_type": "execute_result"
    }
   ],
   "source": [
    "knn_results"
   ]
  },
  {
   "cell_type": "code",
   "execution_count": 43,
   "metadata": {},
   "outputs": [
    {
     "data": {
      "image/png": "[encoded data removed]",
      "text/plain": [
       "<matplotlib.figure.Figure at 0x11d1ce400>"
      ]
     },
     "metadata": {},
     "output_type": "display_data"
    }
   ],
   "source": [
    "plt.figure(figsize = (10,6))\n",
    "sns.barplot(x = knn_results['f-score'].index,\n",
    "            y = knn_results['f-score'],\n",
    "            palette = 'husl')\n",
    "plt.xticks(rotation=45, ha = 'right')\n",
    "sns.despine()\n",
    "plt.show()"
   ]
  },
  {
   "cell_type": "markdown",
   "metadata": {},
   "source": [
    "The results acros the board were fairly mixed, and suprisingly, repair/refinish did not have a high F-score on the test set. I'd also note that these results were also highly sensitive to the random states used in train/test splitting as well as stratified k-fold cross validation."
   ]
  },
  {
   "cell_type": "markdown",
   "metadata": {},
   "source": [
    "## 3.2 Example inference using our trained models"
   ]
  },
  {
   "cell_type": "code",
   "execution_count": 28,
   "metadata": {
    "collapsed": true
   },
   "outputs": [],
   "source": [
    "infer_df = pd.DataFrame()\n",
    "\n",
    "for i, output_col in enumerate(df_y.columns):\n",
    "    \n",
    "    infer_df.loc['actual', output_col] = np.array(y_test)[100,i]\n",
    "    infer_df.loc['predicted', output_col] = knn_model_dict[output_col].predict(x_test[100])[0]\n",
    "    infer_df.loc['correct?', output_col] = (infer_df.loc['actual', output_col] == infer_df.loc['predicted', output_col])\n",
    "\n",
    "\n",
    "infer_df.columns = [col[2:].replace('_', ' ') for col in infer_df.columns]"
   ]
  },
  {
   "cell_type": "code",
   "execution_count": 29,
   "metadata": {},
   "outputs": [
    {
     "data": {
      "text/html": [
       "<div>\n",
       "<style>\n",
       "    .dataframe thead tr:only-child th {\n",
       "        text-align: right;\n",
       "    }\n",
       "\n",
       "    .dataframe thead th {\n",
       "        text-align: left;\n",
       "    }\n",
       "\n",
       "    .dataframe tbody tr th {\n",
       "        vertical-align: top;\n",
       "    }\n",
       "</style>\n",
       "<table border=\"1\" class=\"dataframe\">\n",
       "  <thead>\n",
       "    <tr style=\"text-align: right;\">\n",
       "      <th></th>\n",
       "      <th>bespoke</th>\n",
       "      <th>multi point inspection</th>\n",
       "      <th>battery test</th>\n",
       "      <th>tire inflation</th>\n",
       "      <th>hazardous waste</th>\n",
       "      <th>change oil</th>\n",
       "      <th>filter</th>\n",
       "      <th>safety systems</th>\n",
       "      <th>nitro fill</th>\n",
       "      <th>repair or refinish</th>\n",
       "    </tr>\n",
       "  </thead>\n",
       "  <tbody>\n",
       "    <tr>\n",
       "      <th>actual</th>\n",
       "      <td>0</td>\n",
       "      <td>0</td>\n",
       "      <td>0</td>\n",
       "      <td>1</td>\n",
       "      <td>1</td>\n",
       "      <td>0</td>\n",
       "      <td>0</td>\n",
       "      <td>0</td>\n",
       "      <td>0</td>\n",
       "      <td>0</td>\n",
       "    </tr>\n",
       "    <tr>\n",
       "      <th>predicted</th>\n",
       "      <td>0</td>\n",
       "      <td>1</td>\n",
       "      <td>0</td>\n",
       "      <td>1</td>\n",
       "      <td>1</td>\n",
       "      <td>0</td>\n",
       "      <td>1</td>\n",
       "      <td>0</td>\n",
       "      <td>0</td>\n",
       "      <td>0</td>\n",
       "    </tr>\n",
       "    <tr>\n",
       "      <th>correct?</th>\n",
       "      <td>True</td>\n",
       "      <td>False</td>\n",
       "      <td>True</td>\n",
       "      <td>True</td>\n",
       "      <td>True</td>\n",
       "      <td>True</td>\n",
       "      <td>False</td>\n",
       "      <td>True</td>\n",
       "      <td>True</td>\n",
       "      <td>True</td>\n",
       "    </tr>\n",
       "  </tbody>\n",
       "</table>\n",
       "</div>"
      ],
      "text/plain": [
       "          bespoke multi point inspection battery test tire inflation  \\\n",
       "actual          0                      0            0              1   \n",
       "predicted       0                      1            0              1   \n",
       "correct?     True                  False         True           True   \n",
       "\n",
       "          hazardous waste change oil filter safety systems nitro fill  \\\n",
       "actual                  1          0      0              0          0   \n",
       "predicted               1          0      1              0          0   \n",
       "correct?             True       True  False           True       True   \n",
       "\n",
       "          repair or refinish  \n",
       "actual                     0  \n",
       "predicted                  0  \n",
       "correct?                True  "
      ]
     },
     "execution_count": 29,
     "metadata": {},
     "output_type": "execute_result"
    }
   ],
   "source": [
    "infer_df"
   ]
  },
  {
   "cell_type": "markdown",
   "metadata": {},
   "source": [
    "# 4 Principal component analysis"
   ]
  },
  {
   "cell_type": "markdown",
   "metadata": {},
   "source": [
    "We examine the distribution of data for tire inflation on the first two principal components, to explore why k-NN may have been more effective than other algorithms. Our intuition is classes don’t appear to be very separable, however, it makes sense that there are  neighborhoods / clusters of similar cars. An algorithm that is sensitive to the local structure of data, like k-NN, may therefore be the most effective for these applications."
   ]
  },
  {
   "cell_type": "code",
   "execution_count": 30,
   "metadata": {
    "collapsed": true
   },
   "outputs": [],
   "source": [
    "from sklearn.decomposition import PCA"
   ]
  },
  {
   "cell_type": "code",
   "execution_count": 31,
   "metadata": {
    "collapsed": true
   },
   "outputs": [],
   "source": [
    "y_pca = df_y['y_tire_inflation']\n",
    "x_pca = df_x"
   ]
  },
  {
   "cell_type": "code",
   "execution_count": 49,
   "metadata": {},
   "outputs": [
    {
     "data": {
      "image/png": "[encoded data removed]",
      "text/plain": [
       "<matplotlib.figure.Figure at 0x11d493cf8>"
      ]
     },
     "metadata": {},
     "output_type": "display_data"
    }
   ],
   "source": [
    "target_names = ['0: no inflation required', '1: inflation required']\n",
    "\n",
    "pca = PCA(n_components=2)\n",
    "X_r = pca.fit(x_pca).transform(x_pca)\n",
    "\n",
    "plt.figure(figsize = (6,4))\n",
    "colors = ['navy', 'turquoise']\n",
    "lw = 2\n",
    "\n",
    "for color, i, target_name in zip(colors, [0, 1], target_names):\n",
    "    plt.scatter(X_r[y_pca == i, 0], X_r[y_pca == i, 1], color=color, alpha=.8, lw=lw,\n",
    "                label=target_name)\n",
    "plt.legend(loc='upper left', shadow=False, scatterpoints=1)\n",
    "sns.despine()\n",
    "plt.show()"
   ]
  },
  {
   "cell_type": "markdown",
   "metadata": {},
   "source": [
    "# 5 Further areas of interest"
   ]
  },
  {
   "cell_type": "markdown",
   "metadata": {},
   "source": [
    "We believe our results could be significantly improved by creating different models for different makes of car. Rather than using 'make' as a one hot encoded feature, we would use a subset of the data for training. This would also allow us to capture more information from the ‘tail-end’ of the make distribution."
   ]
  }
 ],
 "metadata": {
  "kernelspec": {
   "display_name": "Python 3",
   "language": "python",
   "name": "python3"
  },
  "language_info": {
   "codemirror_mode": {
    "name": "ipython",
    "version": 3
   },
   "file_extension": ".py",
   "mimetype": "text/x-python",
   "name": "python",
   "nbconvert_exporter": "python",
   "pygments_lexer": "ipython3",
   "version": "3.6.1"
  }
 },
 "nbformat": 4,
 "nbformat_minor": 2
}
