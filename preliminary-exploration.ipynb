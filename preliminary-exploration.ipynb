{
 "cells": [
  {
   "cell_type": "code",
   "execution_count": 1,
   "metadata": {
    "collapsed": true
   },
   "outputs": [],
   "source": [
    "import pandas as pd\n",
    "import numpy as np\n",
    "from matplotlib import pyplot as plt\n",
    "import seaborn as sns"
   ]
  },
  {
   "cell_type": "code",
   "execution_count": 42,
   "metadata": {
    "collapsed": true
   },
   "outputs": [],
   "source": [
    "import re"
   ]
  },
  {
   "cell_type": "code",
   "execution_count": 2,
   "metadata": {},
   "outputs": [
    {
     "name": "stderr",
     "output_type": "stream",
     "text": [
      "/Users/nicholashirons/anaconda/lib/python3.6/site-packages/IPython/core/interactiveshell.py:2717: DtypeWarning: Columns (4,6,9,10,11,22,25,28,31,32,33,34,35,36,37,38,39,40,41,42,43,44,45,46,47,48,49,50,51,52,55,56,57,58,59,60,61,62,63,64,67,68,69,70,71,72,73,74,75,76,77,78,80,81,84,85,86,87,88,89,90,93,94,95,96,97,98,99,100,101,102,103,104,105,110,111,114,115,116,117,118,119,120,121,131,132,133,136,138,139,141,151,158,168,173) have mixed types. Specify dtype option on import or set low_memory=False.\n",
      "  interactivity=interactivity, compiler=compiler, result=result)\n"
     ]
    }
   ],
   "source": [
    "df1 = pd.read_csv('./data/20170622_1514_SV (376k).csv')"
   ]
  },
  {
   "cell_type": "code",
   "execution_count": 3,
   "metadata": {},
   "outputs": [
    {
     "name": "stderr",
     "output_type": "stream",
     "text": [
      "/Users/nicholashirons/anaconda/lib/python3.6/site-packages/IPython/core/interactiveshell.py:2717: DtypeWarning: Columns (4,25,29,35,40,43,44,48,53,54,55,56,59,60,61,63,64,67,68,69,73,75,76,77,114,115,116,117,118,119,120,121,133,153,154,155,156,176) have mixed types. Specify dtype option on import or set low_memory=False.\n",
      "  interactivity=interactivity, compiler=compiler, result=result)\n"
     ]
    }
   ],
   "source": [
    "df2 = pd.read_csv('./data/SVC Aggregate (115k).csv')"
   ]
  },
  {
   "cell_type": "markdown",
   "metadata": {},
   "source": [
    "# Preliminary exploration"
   ]
  },
  {
   "cell_type": "code",
   "execution_count": 60,
   "metadata": {},
   "outputs": [
    {
     "data": {
      "text/plain": [
       "376970"
      ]
     },
     "execution_count": 60,
     "metadata": {},
     "output_type": "execute_result"
    }
   ],
   "source": [
    "df1.shape[0]"
   ]
  },
  {
   "cell_type": "code",
   "execution_count": 61,
   "metadata": {},
   "outputs": [
    {
     "name": "stdout",
     "output_type": "stream",
     "text": [
      "df1 has 376970 rows and 176 columns\n",
      "df2 has 185161 rows and 178 columns\n"
     ]
    }
   ],
   "source": [
    "print('df1 has {} rows and {} columns'.format(*df1.shape))\n",
    "print('df2 has {} rows and {} columns'.format(*df2.shape))"
   ]
  },
  {
   "cell_type": "code",
   "execution_count": 62,
   "metadata": {},
   "outputs": [
    {
     "name": "stdout",
     "output_type": "stream",
     "text": [
      "The column(s) in df2 but not df1 are ['State', 'Zip', 'CASS_STD_STATE'].\n",
      "The column(s) in df1 but not df2 are ['Unnamed: 175'].\n"
     ]
    }
   ],
   "source": [
    "print('The column(s) in df2 but not df1 are {}.'.format([col for col in df2.columns if col not in df1.columns]))\n",
    "print('The column(s) in df1 but not df2 are {}.'.format([col for col in df1.columns if col not in df2.columns]))"
   ]
  },
  {
   "cell_type": "code",
   "execution_count": 16,
   "metadata": {},
   "outputs": [
    {
     "data": {
      "text/plain": [
       "Index(['File Type', 'DV Dealer ID', 'Vendor Dealer ID', 'DMS Type',\n",
       "       'RO Number', 'Open Date', 'Close Date', 'Service Advisor Number',\n",
       "       'Service Advisor Name', 'RO Department',\n",
       "       ...\n",
       "       'CASS_STD_FIPS', 'CASS_STD_EWS', 'CASS_STD_LACS', 'CASS_STD_ZIPMOV',\n",
       "       'CASS_STD_Z4LOM', 'CASS_STD_NDIAPT', 'CASS_STD_NDIRR',\n",
       "       'CASS_STD_LACSRT', 'CASS_STD_ERROR_CD', 'Unnamed: 175'],\n",
       "      dtype='object', length=176)"
      ]
     },
     "execution_count": 16,
     "metadata": {},
     "output_type": "execute_result"
    }
   ],
   "source": [
    "df1.columns"
   ]
  },
  {
   "cell_type": "code",
   "execution_count": 24,
   "metadata": {},
   "outputs": [
    {
     "data": {
      "text/html": [
       "<div>\n",
       "<style>\n",
       "    .dataframe thead tr:only-child th {\n",
       "        text-align: right;\n",
       "    }\n",
       "\n",
       "    .dataframe thead th {\n",
       "        text-align: left;\n",
       "    }\n",
       "\n",
       "    .dataframe tbody tr th {\n",
       "        vertical-align: top;\n",
       "    }\n",
       "</style>\n",
       "<table border=\"1\" class=\"dataframe\">\n",
       "  <thead>\n",
       "    <tr style=\"text-align: right;\">\n",
       "      <th></th>\n",
       "      <th>File Type</th>\n",
       "      <th>DV Dealer ID</th>\n",
       "      <th>Vendor Dealer ID</th>\n",
       "      <th>DMS Type</th>\n",
       "      <th>RO Number</th>\n",
       "      <th>Open Date</th>\n",
       "      <th>Close Date</th>\n",
       "      <th>Service Advisor Number</th>\n",
       "      <th>Service Advisor Name</th>\n",
       "      <th>RO Department</th>\n",
       "    </tr>\n",
       "  </thead>\n",
       "  <tbody>\n",
       "    <tr>\n",
       "      <th>0</th>\n",
       "      <td>Service</td>\n",
       "      <td>DVD03865</td>\n",
       "      <td>0013900001YPjh8AAD</td>\n",
       "      <td>ADP</td>\n",
       "      <td>410202</td>\n",
       "      <td>10/4/10</td>\n",
       "      <td>12/3/10</td>\n",
       "      <td>269.0</td>\n",
       "      <td>CASHMAN,PATRICK M</td>\n",
       "      <td>S</td>\n",
       "    </tr>\n",
       "    <tr>\n",
       "      <th>1</th>\n",
       "      <td>Service</td>\n",
       "      <td>DVD03865</td>\n",
       "      <td>0013900001YPjh8AAD</td>\n",
       "      <td>ADP</td>\n",
       "      <td>411751</td>\n",
       "      <td>10/14/10</td>\n",
       "      <td>1/18/11</td>\n",
       "      <td>205.0</td>\n",
       "      <td>CONKLIN,DEAN</td>\n",
       "      <td>S</td>\n",
       "    </tr>\n",
       "    <tr>\n",
       "      <th>2</th>\n",
       "      <td>Service</td>\n",
       "      <td>DVD03865</td>\n",
       "      <td>0013900001YPjh8AAD</td>\n",
       "      <td>ADP</td>\n",
       "      <td>413079</td>\n",
       "      <td>10/23/10</td>\n",
       "      <td>11/26/10</td>\n",
       "      <td>269.0</td>\n",
       "      <td>CASHMAN,PATRICK M</td>\n",
       "      <td>S</td>\n",
       "    </tr>\n",
       "    <tr>\n",
       "      <th>3</th>\n",
       "      <td>Service</td>\n",
       "      <td>DVD03865</td>\n",
       "      <td>0013900001YPjh8AAD</td>\n",
       "      <td>ADP</td>\n",
       "      <td>413201</td>\n",
       "      <td>10/25/10</td>\n",
       "      <td>11/29/10</td>\n",
       "      <td>207.0</td>\n",
       "      <td>NaN</td>\n",
       "      <td>S</td>\n",
       "    </tr>\n",
       "    <tr>\n",
       "      <th>4</th>\n",
       "      <td>Service</td>\n",
       "      <td>DVD03865</td>\n",
       "      <td>0013900001YPjh8AAD</td>\n",
       "      <td>ADP</td>\n",
       "      <td>414116</td>\n",
       "      <td>11/1/10</td>\n",
       "      <td>11/30/10</td>\n",
       "      <td>201.0</td>\n",
       "      <td>MYSLINSKI,DEAN</td>\n",
       "      <td>S</td>\n",
       "    </tr>\n",
       "  </tbody>\n",
       "</table>\n",
       "</div>"
      ],
      "text/plain": [
       "  File Type DV Dealer ID    Vendor Dealer ID DMS Type RO Number Open Date  \\\n",
       "0   Service     DVD03865  0013900001YPjh8AAD      ADP    410202   10/4/10   \n",
       "1   Service     DVD03865  0013900001YPjh8AAD      ADP    411751  10/14/10   \n",
       "2   Service     DVD03865  0013900001YPjh8AAD      ADP    413079  10/23/10   \n",
       "3   Service     DVD03865  0013900001YPjh8AAD      ADP    413201  10/25/10   \n",
       "4   Service     DVD03865  0013900001YPjh8AAD      ADP    414116   11/1/10   \n",
       "\n",
       "  Close Date  Service Advisor Number Service Advisor Name RO Department  \n",
       "0    12/3/10                   269.0    CASHMAN,PATRICK M             S  \n",
       "1    1/18/11                   205.0         CONKLIN,DEAN             S  \n",
       "2   11/26/10                   269.0    CASHMAN,PATRICK M             S  \n",
       "3   11/29/10                   207.0                  NaN             S  \n",
       "4   11/30/10                   201.0       MYSLINSKI,DEAN             S  "
      ]
     },
     "execution_count": 24,
     "metadata": {},
     "output_type": "execute_result"
    }
   ],
   "source": [
    "df1.iloc[:,:10].head()"
   ]
  },
  {
   "cell_type": "markdown",
   "metadata": {},
   "source": [
    "# Exploring column types"
   ]
  },
  {
   "cell_type": "code",
   "execution_count": 63,
   "metadata": {},
   "outputs": [
    {
     "data": {
      "text/plain": [
       "object     129\n",
       "float64     45\n",
       "int64        2\n",
       "dtype: int64"
      ]
     },
     "execution_count": 63,
     "metadata": {},
     "output_type": "execute_result"
    }
   ],
   "source": [
    "df1.dtypes.value_counts()"
   ]
  },
  {
   "cell_type": "code",
   "execution_count": 64,
   "metadata": {},
   "outputs": [],
   "source": [
    "object_cols = [col for col in df1.columns if df1[col].dtype == 'O']\n",
    "float_cols = [col for col in df1.columns if df1[col].dtype == 'float64']\n",
    "int_cols = [col for col in df1.columns if df1[col].dtype == 'int64']"
   ]
  },
  {
   "cell_type": "code",
   "execution_count": 66,
   "metadata": {},
   "outputs": [
    {
     "data": {
      "text/plain": [
       "True"
      ]
     },
     "execution_count": 66,
     "metadata": {},
     "output_type": "execute_result"
    }
   ],
   "source": [
    "# Check counts\n",
    "len(object_cols) + len(float_cols) + len(int_cols) == len(df1.columns)"
   ]
  },
  {
   "cell_type": "markdown",
   "metadata": {},
   "source": [
    "## Object types"
   ]
  },
  {
   "cell_type": "code",
   "execution_count": 74,
   "metadata": {},
   "outputs": [
    {
     "data": {
      "text/plain": [
       "<class 'str'>      85\n",
       "<class 'float'>    41\n",
       "<class 'int'>       3\n",
       "dtype: int64"
      ]
     },
     "execution_count": 74,
     "metadata": {},
     "output_type": "execute_result"
    }
   ],
   "source": [
    "# Examine object data types\n",
    "pd.Series([type(df1[col][0]) for col in object_cols]).value_counts()"
   ]
  },
  {
   "cell_type": "code",
   "execution_count": 100,
   "metadata": {
    "collapsed": true
   },
   "outputs": [],
   "source": [
    "obj_string_cols = [col for col in object_cols if type(df1[col][0]) == str]\n",
    "obj_int_cols = [col for col in object_cols if type(df1[col][0]) == int]\n",
    "obj_float_cols = [col for col in object_cols if type(df1[col][0]) == float]"
   ]
  },
  {
   "cell_type": "code",
   "execution_count": 104,
   "metadata": {},
   "outputs": [
    {
     "name": "stdout",
     "output_type": "stream",
     "text": [
      "There are 85 object columns that contain a string in first entry.\n",
      "There are 3 object columns that contain an integer in first entry.\n",
      "There are 41 object columns that contain a float in first entry.\n"
     ]
    }
   ],
   "source": [
    "print('There are {} object columns that contain a string in first entry.'.format(len(obj_string_cols)))\n",
    "print('There are {} object columns that contain an integer in first entry.'.format(len(obj_int_cols)))\n",
    "print('There are {} object columns that contain a float in first entry.'.format(len(obj_float_cols)))"
   ]
  },
  {
   "cell_type": "markdown",
   "metadata": {},
   "source": [
    "## Idenify \"long\" strings (len > 20)"
   ]
  },
  {
   "cell_type": "code",
   "execution_count": 125,
   "metadata": {},
   "outputs": [],
   "source": [
    "long_strings = sorted([col for col in obj_string_cols if len(df1[col][0]) > 20], reverse = True)"
   ]
  },
  {
   "cell_type": "code",
   "execution_count": 124,
   "metadata": {
    "collapsed": true
   },
   "outputs": [],
   "source": [
    "long_strings_and_len = sorted([(col,len(df1[col][0])) for col in obj_string_cols if len(df1[col][0]) > 20],\n",
    "                              key = lambda s: s[1],\n",
    "                              reverse = True)"
   ]
  },
  {
   "cell_type": "code",
   "execution_count": 128,
   "metadata": {},
   "outputs": [
    {
     "data": {
      "text/plain": [
       "[('Operation Code Descriptions', 302),\n",
       " ('Labor Cause', 141),\n",
       " ('Tech Name', 130),\n",
       " ('Operation Line Sale', 69),\n",
       " ('Operation Line Cost', 67),\n",
       " ('Operation Codes', 59),\n",
       " ('Labor Bill Hours', 58),\n",
       " ('Parts Sale', 57),\n",
       " ('Labor Tech Hours', 54),\n",
       " ('Labor Sale', 52),\n",
       " ('Labor Cost', 49),\n",
       " ('Operation Sale Types', 45),\n",
       " ('Tech Number', 34),\n",
       " ('Misc Cost', 27),\n",
       " ('Misc Sale', 27),\n",
       " ('Tech Labor Line', 23),\n",
       " ('Operation Line Number', 23)]"
      ]
     },
     "execution_count": 128,
     "metadata": {},
     "output_type": "execute_result"
    }
   ],
   "source": [
    "long_strings_and_len"
   ]
  },
  {
   "cell_type": "code",
   "execution_count": 132,
   "metadata": {},
   "outputs": [
    {
     "data": {
      "text/html": [
       "<div>\n",
       "<style>\n",
       "    .dataframe thead tr:only-child th {\n",
       "        text-align: right;\n",
       "    }\n",
       "\n",
       "    .dataframe thead th {\n",
       "        text-align: left;\n",
       "    }\n",
       "\n",
       "    .dataframe tbody tr th {\n",
       "        vertical-align: top;\n",
       "    }\n",
       "</style>\n",
       "<table border=\"1\" class=\"dataframe\">\n",
       "  <thead>\n",
       "    <tr style=\"text-align: right;\">\n",
       "      <th></th>\n",
       "      <th>Tech Number</th>\n",
       "      <th>Tech Name</th>\n",
       "      <th>Tech Labor Line</th>\n",
       "      <th>Parts Sale</th>\n",
       "      <th>Operation Sale Types</th>\n",
       "      <th>Operation Line Sale</th>\n",
       "      <th>Operation Line Number</th>\n",
       "      <th>Operation Line Cost</th>\n",
       "      <th>Operation Codes</th>\n",
       "      <th>Operation Code Descriptions</th>\n",
       "      <th>Misc Sale</th>\n",
       "      <th>Misc Cost</th>\n",
       "      <th>Labor Tech Hours</th>\n",
       "      <th>Labor Sale</th>\n",
       "      <th>Labor Cost</th>\n",
       "      <th>Labor Cause</th>\n",
       "      <th>Labor Bill Hours</th>\n",
       "    </tr>\n",
       "  </thead>\n",
       "  <tbody>\n",
       "    <tr>\n",
       "      <th>0</th>\n",
       "      <td>126|||126|126|126|126||126|126|126</td>\n",
       "      <td>O'BRIEN,CHARLES|||O'BRIEN,CHARLES|O'BRIEN,CHAR...</td>\n",
       "      <td>1|2|3|4|5|6|7|8|9|10|11</td>\n",
       "      <td>5401.32|0.00|0.00|0.00|0.00|0.00|0.00|0.00|0.0...</td>\n",
       "      <td>WESP|WESP|WESP|INS|INS|INS|INS|WESP|INS|CF|CF</td>\n",
       "      <td>7508.82|325.00|175.00|0.00|0.00|0.00|0.00|27.7...</td>\n",
       "      <td>1|2|3|4|5|6|7|8|9|10|11</td>\n",
       "      <td>4520.58|275.00|175.00|0.00|0.00|0.00|0.00|27.7...</td>\n",
       "      <td>L001|9999|9997|99P|GBATT|GTERM|GTIRE|9997|NWD|...</td>\n",
       "      <td>REPLACE 8 INJ, HIGH ANDLOW PRESS FUEL PUMPS, F...</td>\n",
       "      <td>|325.00|175.00|||||27.74|||</td>\n",
       "      <td>|275.00|175.00|||||27.74|||</td>\n",
       "      <td>0.00|0.00|0.00|0.00|0.00|0.00|0.00|0.00|0.00|0...</td>\n",
       "      <td>2107.50|||0.00|0.00|0.00|0.00||0.00|1829.10|-1...</td>\n",
       "      <td>662.50|||0.00|0.00|0.00|0.00||0.00|532.65|-532.65</td>\n",
       "      <td>VISAUL INSPECTION FUEL TANK FULL OF WATER AND ...</td>\n",
       "      <td>25.00|0.00|0.00|0.00|0.00|0.00|0.00|0.00|0.00|...</td>\n",
       "    </tr>\n",
       "    <tr>\n",
       "      <th>1</th>\n",
       "      <td>126|||126|125||126</td>\n",
       "      <td>O'BRIEN,CHARLES|||O'BRIEN,CHARLES|KEITH LINEBE...</td>\n",
       "      <td>1|2|3|4|5|6|7</td>\n",
       "      <td>1046.56|0.00|0.00|0.00|0.00|0.00|205.20</td>\n",
       "      <td>CFT|CFT|CFT|INS|CMTR|CMTR|CFT</td>\n",
       "      <td>1112.36|320.00|25.09|0.00|12.75|0.85|342.38</td>\n",
       "      <td>1|2|3|4|5|6|7</td>\n",
       "      <td>564.43|300.00|25.09|0.00|5.40|0.85|163.97</td>\n",
       "      <td>T6|9999|9997|99P|NCSI|9997|G15</td>\n",
       "      <td>PERFOMED ENGINEPERFORMANCE DIAG LOSINGFUEL PRE...</td>\n",
       "      <td>|320.00|25.09|||0.85|</td>\n",
       "      <td>|300.00|25.09|||0.85|</td>\n",
       "      <td>0.07|0.00|0.00|0.00|0.00|0.00|0.00</td>\n",
       "      <td>65.80|||0.00|12.75||137.18</td>\n",
       "      <td>15.90|||0.00|5.40||39.75</td>\n",
       "      <td>|||</td>\n",
       "      <td>0.60|0.00|0.00|0.00|0.30|0.00|1.50</td>\n",
       "    </tr>\n",
       "    <tr>\n",
       "      <th>2</th>\n",
       "      <td>152</td>\n",
       "      <td>GREGORY,BEDFORD</td>\n",
       "      <td>1</td>\n",
       "      <td>0</td>\n",
       "      <td>INS</td>\n",
       "      <td>0</td>\n",
       "      <td>1</td>\n",
       "      <td>0</td>\n",
       "      <td>NWD</td>\n",
       "      <td>NWD</td>\n",
       "      <td>NaN</td>\n",
       "      <td>NaN</td>\n",
       "      <td>0</td>\n",
       "      <td>0</td>\n",
       "      <td>0</td>\n",
       "      <td>NaN</td>\n",
       "      <td>0</td>\n",
       "    </tr>\n",
       "    <tr>\n",
       "      <th>3</th>\n",
       "      <td>199|199|199|199</td>\n",
       "      <td>DEFAULT,TECH|DEFAULT,TECH|DEFAULT,TECH|DEFAULT...</td>\n",
       "      <td>1|2|3|4</td>\n",
       "      <td>32.74|0.00|0.00|42.55</td>\n",
       "      <td>CMT|INS|CF|CF</td>\n",
       "      <td>32.74|0.00|0.00|42.55</td>\n",
       "      <td>1|2|3|4</td>\n",
       "      <td>12.81|0.00|0.00|42.55</td>\n",
       "      <td>NC|99P|NC|NC</td>\n",
       "      <td>NO CHARGE|PERFORM MULTI-POINTINSPECTION|NO CHA...</td>\n",
       "      <td>|||</td>\n",
       "      <td>|||</td>\n",
       "      <td>0.00|0.00|0.00|0.00</td>\n",
       "      <td>0.00|0.00|0.00|0.00</td>\n",
       "      <td>0.00|0.00|0.00|0.00</td>\n",
       "      <td>|||</td>\n",
       "      <td>0.00|0.00|0.00|0.00</td>\n",
       "    </tr>\n",
       "    <tr>\n",
       "      <th>4</th>\n",
       "      <td>199</td>\n",
       "      <td>DEFAULT,TECH</td>\n",
       "      <td>1</td>\n",
       "      <td>564.99</td>\n",
       "      <td>INS</td>\n",
       "      <td>564.99</td>\n",
       "      <td>1</td>\n",
       "      <td>470.88</td>\n",
       "      <td>NC</td>\n",
       "      <td>SHOP NOV</td>\n",
       "      <td>NaN</td>\n",
       "      <td>NaN</td>\n",
       "      <td>0</td>\n",
       "      <td>0</td>\n",
       "      <td>0</td>\n",
       "      <td>NaN</td>\n",
       "      <td>0</td>\n",
       "    </tr>\n",
       "  </tbody>\n",
       "</table>\n",
       "</div>"
      ],
      "text/plain": [
       "                          Tech Number  \\\n",
       "0  126|||126|126|126|126||126|126|126   \n",
       "1                  126|||126|125||126   \n",
       "2                                 152   \n",
       "3                     199|199|199|199   \n",
       "4                                 199   \n",
       "\n",
       "                                           Tech Name          Tech Labor Line  \\\n",
       "0  O'BRIEN,CHARLES|||O'BRIEN,CHARLES|O'BRIEN,CHAR...  1|2|3|4|5|6|7|8|9|10|11   \n",
       "1  O'BRIEN,CHARLES|||O'BRIEN,CHARLES|KEITH LINEBE...            1|2|3|4|5|6|7   \n",
       "2                                    GREGORY,BEDFORD                        1   \n",
       "3  DEFAULT,TECH|DEFAULT,TECH|DEFAULT,TECH|DEFAULT...                  1|2|3|4   \n",
       "4                                       DEFAULT,TECH                        1   \n",
       "\n",
       "                                          Parts Sale  \\\n",
       "0  5401.32|0.00|0.00|0.00|0.00|0.00|0.00|0.00|0.0...   \n",
       "1            1046.56|0.00|0.00|0.00|0.00|0.00|205.20   \n",
       "2                                                  0   \n",
       "3                              32.74|0.00|0.00|42.55   \n",
       "4                                             564.99   \n",
       "\n",
       "                            Operation Sale Types  \\\n",
       "0  WESP|WESP|WESP|INS|INS|INS|INS|WESP|INS|CF|CF   \n",
       "1                  CFT|CFT|CFT|INS|CMTR|CMTR|CFT   \n",
       "2                                            INS   \n",
       "3                                  CMT|INS|CF|CF   \n",
       "4                                            INS   \n",
       "\n",
       "                                 Operation Line Sale    Operation Line Number  \\\n",
       "0  7508.82|325.00|175.00|0.00|0.00|0.00|0.00|27.7...  1|2|3|4|5|6|7|8|9|10|11   \n",
       "1        1112.36|320.00|25.09|0.00|12.75|0.85|342.38            1|2|3|4|5|6|7   \n",
       "2                                                  0                        1   \n",
       "3                              32.74|0.00|0.00|42.55                  1|2|3|4   \n",
       "4                                             564.99                        1   \n",
       "\n",
       "                                 Operation Line Cost  \\\n",
       "0  4520.58|275.00|175.00|0.00|0.00|0.00|0.00|27.7...   \n",
       "1          564.43|300.00|25.09|0.00|5.40|0.85|163.97   \n",
       "2                                                  0   \n",
       "3                              12.81|0.00|0.00|42.55   \n",
       "4                                             470.88   \n",
       "\n",
       "                                     Operation Codes  \\\n",
       "0  L001|9999|9997|99P|GBATT|GTERM|GTIRE|9997|NWD|...   \n",
       "1                     T6|9999|9997|99P|NCSI|9997|G15   \n",
       "2                                                NWD   \n",
       "3                                       NC|99P|NC|NC   \n",
       "4                                                 NC   \n",
       "\n",
       "                         Operation Code Descriptions  \\\n",
       "0  REPLACE 8 INJ, HIGH ANDLOW PRESS FUEL PUMPS, F...   \n",
       "1  PERFOMED ENGINEPERFORMANCE DIAG LOSINGFUEL PRE...   \n",
       "2                                                NWD   \n",
       "3  NO CHARGE|PERFORM MULTI-POINTINSPECTION|NO CHA...   \n",
       "4                                           SHOP NOV   \n",
       "\n",
       "                     Misc Sale                    Misc Cost  \\\n",
       "0  |325.00|175.00|||||27.74|||  |275.00|175.00|||||27.74|||   \n",
       "1        |320.00|25.09|||0.85|        |300.00|25.09|||0.85|   \n",
       "2                          NaN                          NaN   \n",
       "3                          |||                          |||   \n",
       "4                          NaN                          NaN   \n",
       "\n",
       "                                    Labor Tech Hours  \\\n",
       "0  0.00|0.00|0.00|0.00|0.00|0.00|0.00|0.00|0.00|0...   \n",
       "1                 0.07|0.00|0.00|0.00|0.00|0.00|0.00   \n",
       "2                                                  0   \n",
       "3                                0.00|0.00|0.00|0.00   \n",
       "4                                                  0   \n",
       "\n",
       "                                          Labor Sale  \\\n",
       "0  2107.50|||0.00|0.00|0.00|0.00||0.00|1829.10|-1...   \n",
       "1                         65.80|||0.00|12.75||137.18   \n",
       "2                                                  0   \n",
       "3                                0.00|0.00|0.00|0.00   \n",
       "4                                                  0   \n",
       "\n",
       "                                          Labor Cost  \\\n",
       "0  662.50|||0.00|0.00|0.00|0.00||0.00|532.65|-532.65   \n",
       "1                           15.90|||0.00|5.40||39.75   \n",
       "2                                                  0   \n",
       "3                                0.00|0.00|0.00|0.00   \n",
       "4                                                  0   \n",
       "\n",
       "                                         Labor Cause  \\\n",
       "0  VISAUL INSPECTION FUEL TANK FULL OF WATER AND ...   \n",
       "1                                                |||   \n",
       "2                                                NaN   \n",
       "3                                                |||   \n",
       "4                                                NaN   \n",
       "\n",
       "                                    Labor Bill Hours  \n",
       "0  25.00|0.00|0.00|0.00|0.00|0.00|0.00|0.00|0.00|...  \n",
       "1                 0.60|0.00|0.00|0.00|0.30|0.00|1.50  \n",
       "2                                                  0  \n",
       "3                                0.00|0.00|0.00|0.00  \n",
       "4                                                  0  "
      ]
     },
     "execution_count": 132,
     "metadata": {},
     "output_type": "execute_result"
    }
   ],
   "source": [
    "df1[long_strings].head()"
   ]
  },
  {
   "cell_type": "code",
   "execution_count": 136,
   "metadata": {},
   "outputs": [
    {
     "data": {
      "text/plain": [
       "['REPLACE 8 INJ, HIGH ANDLOW PRESS FUEL PUMPS, FULLINES AND RAILS, RELINEFUEL TANK, FLUSH FUELSYSTEM, LOF, NEW COOLANT',\n",
       " '',\n",
       " '',\n",
       " 'PERFORM MULTI-POINTINSPECTION',\n",
       " 'BATTERY TEST PERFORMEDAND BATTERY OK ON THISVISIT',\n",
       " 'BATTERY TERMINALS GOOD ATTHIS TIME',\n",
       " 'TIRES INSPECTED AND OK ONTHIS VISIT.',\n",
       " '',\n",
       " 'SEE LINE A',\n",
       " 'DRAW TIME',\n",
       " 'DRAW TIME']"
      ]
     },
     "execution_count": 136,
     "metadata": {},
     "output_type": "execute_result"
    }
   ],
   "source": [
    "df1['Operation Code Descriptions'].str.split('|')[0]"
   ]
  },
  {
   "cell_type": "markdown",
   "metadata": {},
   "source": [
    "### Notice how some words (likely last / first words of consecutive written lines) are mistakenly merged together. This will cause inaccuracy for any later NLP."
   ]
  },
  {
   "cell_type": "code",
   "execution_count": 221,
   "metadata": {
    "collapsed": true
   },
   "outputs": [],
   "source": [
    "import importlib"
   ]
  },
  {
   "cell_type": "code",
   "execution_count": 222,
   "metadata": {},
   "outputs": [
    {
     "data": {
      "text/plain": [
       "<module 'word_parser' from '/Users/nicholashirons/carforce/word_parser.py'>"
      ]
     },
     "execution_count": 222,
     "metadata": {},
     "output_type": "execute_result"
    }
   ],
   "source": [
    "importlib.reload(word_parser)"
   ]
  },
  {
   "cell_type": "code",
   "execution_count": 223,
   "metadata": {},
   "outputs": [],
   "source": [
    "from word_parser import infer_spaces\n",
    "from word_parser import separate_merged_words"
   ]
  },
  {
   "cell_type": "code",
   "execution_count": 210,
   "metadata": {},
   "outputs": [
    {
     "data": {
      "text/plain": [
       "'battery test performed and battery ok on this visit'"
      ]
     },
     "execution_count": 210,
     "metadata": {},
     "output_type": "execute_result"
    }
   ],
   "source": [
    "infer_spaces('BATTERYTESTPERFORMEDANDBATTERYOKONTHISVISIT'.lower())"
   ]
  },
  {
   "cell_type": "code",
   "execution_count": 211,
   "metadata": {},
   "outputs": [],
   "source": [
    "test_string = df1['Operation Code Descriptions'].str.split('|')[0][0]"
   ]
  },
  {
   "cell_type": "code",
   "execution_count": 212,
   "metadata": {},
   "outputs": [
    {
     "data": {
      "text/plain": [
       "'REPLACE 8 INJ, HIGH ANDLOW PRESS FUEL PUMPS, FULLINES AND RAILS, RELINEFUEL TANK, FLUSH FUELSYSTEM, LOF, NEW COOLANT'"
      ]
     },
     "execution_count": 212,
     "metadata": {},
     "output_type": "execute_result"
    }
   ],
   "source": [
    "test_string"
   ]
  },
  {
   "cell_type": "code",
   "execution_count": 229,
   "metadata": {},
   "outputs": [
    {
     "data": {
      "text/plain": [
       "'replace 8 i n j, high and low press fuel pumps, full in es and rails, re line fuel tank, flush fuel system, l of, new coolant'"
      ]
     },
     "execution_count": 229,
     "metadata": {},
     "output_type": "execute_result"
    }
   ],
   "source": [
    "separate_merged_words(test_string)"
   ]
  },
  {
   "cell_type": "code",
   "execution_count": 228,
   "metadata": {},
   "outputs": [],
   "source": [
    "test2 = df1['Operation Code Descriptions'].str.split('|')[0][6]"
   ]
  },
  {
   "cell_type": "code",
   "execution_count": 230,
   "metadata": {},
   "outputs": [
    {
     "data": {
      "text/plain": [
       "'tires inspected and ok on this visit .'"
      ]
     },
     "execution_count": 230,
     "metadata": {},
     "output_type": "execute_result"
    }
   ],
   "source": [
    "separate_merged_words(test2)"
   ]
  }
 ],
 "metadata": {
  "kernelspec": {
   "display_name": "Python 3",
   "language": "python",
   "name": "python3"
  },
  "language_info": {
   "codemirror_mode": {
    "name": "ipython",
    "version": 3
   },
   "file_extension": ".py",
   "mimetype": "text/x-python",
   "name": "python",
   "nbconvert_exporter": "python",
   "pygments_lexer": "ipython3",
   "version": "3.6.1"
  }
 },
 "nbformat": 4,
 "nbformat_minor": 2
}
