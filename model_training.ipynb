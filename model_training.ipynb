{
 "cells": [
  {
   "cell_type": "code",
   "execution_count": 1,
   "metadata": {},
   "outputs": [],
   "source": [
    "import numpy as np\n",
    "import pandas as pd\n",
    "import importlib\n",
    "import matplotlib.pyplot as plt\n",
    "import seaborn as sns\n",
    "import sklearn as sk\n",
    "\n",
    "import warnings\n",
    "warnings.simplefilter('ignore')"
   ]
  },
  {
   "cell_type": "code",
   "execution_count": 2,
   "metadata": {
    "collapsed": true
   },
   "outputs": [],
   "source": [
    "df = pd.read_csv('all.csv', index_col = 0)"
   ]
  },
  {
   "cell_type": "markdown",
   "metadata": {},
   "source": [
    "## Format data for model"
   ]
  },
  {
   "cell_type": "code",
   "execution_count": 3,
   "metadata": {},
   "outputs": [],
   "source": [
    "df['fuel_other'] = df['fuel_flexfuel'] | df['fuel_elec_or_hybrid']"
   ]
  },
  {
   "cell_type": "code",
   "execution_count": 4,
   "metadata": {
    "collapsed": true
   },
   "outputs": [],
   "source": [
    "df = df.drop(['fuel_flexfuel','fuel_elec_or_hybrid', 'fuel_electric', 'fuel_hybrid'], axis = 1)"
   ]
  },
  {
   "cell_type": "code",
   "execution_count": 5,
   "metadata": {},
   "outputs": [],
   "source": [
    "expanded_other = (df['make_chevrolet'] |\n",
    "                  df['make_dodge'] |\n",
    "                  df['make_gmc'] |\n",
    "                  df['make_lincoln'] |\n",
    "                  df['make_mercury'] |\n",
    "                  df['make_mitsubishi_fuso'] |\n",
    "                  df['make_nissan'] |\n",
    "                  df['make_other'] |\n",
    "                  df['make_toyota']\n",
    "                 )"
   ]
  },
  {
   "cell_type": "code",
   "execution_count": 6,
   "metadata": {
    "collapsed": true
   },
   "outputs": [],
   "source": [
    "df['make_other'] = expanded_other"
   ]
  },
  {
   "cell_type": "code",
   "execution_count": 7,
   "metadata": {},
   "outputs": [],
   "source": [
    "df = df.drop(['make_chevrolet',\n",
    "                'make_dodge',\n",
    "                'make_gmc',\n",
    "                'make_lincoln',\n",
    "                'make_mercury',\n",
    "                'make_mitsubishi_fuso',\n",
    "                'make_nissan',\n",
    "                'make_toyota'], axis = 1)"
   ]
  },
  {
   "cell_type": "markdown",
   "metadata": {},
   "source": [
    "## Create x and y dataframes"
   ]
  },
  {
   "cell_type": "code",
   "execution_count": 8,
   "metadata": {},
   "outputs": [],
   "source": [
    "df_y = df[[col for col in df.columns if 'y_' in col]]"
   ]
  },
  {
   "cell_type": "code",
   "execution_count": 9,
   "metadata": {
    "collapsed": true
   },
   "outputs": [],
   "source": [
    "df_x = df.drop([col for col in df.columns if 'y_' in col], axis = 1)"
   ]
  },
  {
   "cell_type": "code",
   "execution_count": 10,
   "metadata": {},
   "outputs": [],
   "source": [
    "df_x = df_x.drop(['make', 'op_descriptions', 'date', 'fuel', 'appointment_month', 'season', 'year', 'error_code'], axis = 1)"
   ]
  },
  {
   "cell_type": "code",
   "execution_count": 28,
   "metadata": {},
   "outputs": [],
   "source": [
    "plot_heatmap = False\n",
    "\n",
    "if plot_heatmap == True:\n",
    "    corr = df_y.corr()\n",
    "    corr.columns = [i[2:].replace('_', ' ') for i in corr.columns]\n",
    "    corr.index = [i[2:].replace('_', ' ') for i in corr.index]\n",
    "    fig, ax = plt.subplots(figsize=(12,9))\n",
    "    sns.heatmap(corr, \n",
    "            xticklabels=corr.columns.values,\n",
    "            yticklabels=corr.columns.values)\n",
    "    plt.show()"
   ]
  },
  {
   "cell_type": "code",
   "execution_count": 50,
   "metadata": {
    "scrolled": true
   },
   "outputs": [],
   "source": [
    "plot_features_per_string = False\n",
    "\n",
    "if plot_features_per_string == True:\n",
    "    features_per_string = df_y.sum(axis = 1).value_counts() / df_y.shape[0]\n",
    "    fig, ax = plt.subplots(figsize=(9,6))\n",
    "    sns.barplot(x = features_per_string.index, y = features_per_string, palette = 'hls')\n",
    "    sns.despine()\n",
    "    plt.show()"
   ]
  },
  {
   "cell_type": "code",
   "execution_count": 34,
   "metadata": {},
   "outputs": [
    {
     "data": {
      "text/plain": [
       "1    9300\n",
       "2    3320\n",
       "3    1536\n",
       "4    1289\n",
       "5     447\n",
       "6     277\n",
       "7      24\n",
       "dtype: int64"
      ]
     },
     "execution_count": 34,
     "metadata": {},
     "output_type": "execute_result"
    }
   ],
   "source": [
    "df_y.sum(axis = 1).value_counts()"
   ]
  },
  {
   "cell_type": "code",
   "execution_count": 12,
   "metadata": {},
   "outputs": [
    {
     "data": {
      "text/plain": [
       "0    10462\n",
       "1     5731\n",
       "Name: y_multi_point_inspection, dtype: int64"
      ]
     },
     "execution_count": 12,
     "metadata": {},
     "output_type": "execute_result"
    }
   ],
   "source": [
    "df['y_multi_point_inspection'].value_counts()"
   ]
  },
  {
   "cell_type": "code",
   "execution_count": 13,
   "metadata": {
    "collapsed": true
   },
   "outputs": [],
   "source": [
    "from sklearn.ensemble import RandomForestClassifier\n",
    "from sklearn.feature_selection import SelectFromModel\n",
    "from sklearn.ensemble import RandomForestClassifier\n",
    "from sklearn.cross_validation import StratifiedKFold\n",
    "from sklearn.grid_search import GridSearchCV\n",
    "from sklearn.cross_validation import cross_val_score"
   ]
  },
  {
   "cell_type": "markdown",
   "metadata": {},
   "source": [
    "## Random Forest"
   ]
  },
  {
   "cell_type": "code",
   "execution_count": 14,
   "metadata": {
    "collapsed": true
   },
   "outputs": [],
   "source": [
    "clf = RandomForestClassifier(n_estimators=50, max_features='sqrt')"
   ]
  },
  {
   "cell_type": "code",
   "execution_count": 15,
   "metadata": {
    "collapsed": true
   },
   "outputs": [],
   "source": [
    "y = df['y_multi_point_inspection']\n",
    "x = df_x.fillna(df_x.median())"
   ]
  },
  {
   "cell_type": "code",
   "execution_count": 16,
   "metadata": {},
   "outputs": [
    {
     "data": {
      "text/plain": [
       "RandomForestClassifier(bootstrap=True, class_weight=None, criterion='gini',\n",
       "            max_depth=None, max_features='sqrt', max_leaf_nodes=None,\n",
       "            min_impurity_split=1e-07, min_samples_leaf=1,\n",
       "            min_samples_split=2, min_weight_fraction_leaf=0.0,\n",
       "            n_estimators=50, n_jobs=1, oob_score=False, random_state=None,\n",
       "            verbose=0, warm_start=False)"
      ]
     },
     "execution_count": 16,
     "metadata": {},
     "output_type": "execute_result"
    }
   ],
   "source": [
    "clf.fit(x,y)"
   ]
  },
  {
   "cell_type": "code",
   "execution_count": 67,
   "metadata": {
    "scrolled": false
   },
   "outputs": [
    {
     "data": {
      "image/png": "[encoded data removed]",
      "text/plain": [
       "<matplotlib.figure.Figure at 0x116b5b668>"
      ]
     },
     "metadata": {},
     "output_type": "display_data"
    }
   ],
   "source": [
    "features = pd.DataFrame()\n",
    "features['feature'] = x.columns\n",
    "features['importance'] = clf.feature_importances_\n",
    "features.sort_values(by=['importance'], ascending=False, inplace=True)\n",
    "features.set_index('feature', inplace=True)\n",
    "fig, ax = plt.subplots(figsize=(12,6))\n",
    "sns.barplot(y = features.index,\n",
    "            x = features['importance'],\n",
    "            palette = 'Blues_d',\n",
    "            orient = 'h')\n",
    "sns.despine()\n",
    "plt.show()"
   ]
  },
  {
   "cell_type": "code",
   "execution_count": 91,
   "metadata": {},
   "outputs": [
    {
     "name": "stdout",
     "output_type": "stream",
     "text": [
      "Fitting  y_bespoke\n",
      "Fitting 5 folds for each of 324 candidates, totalling 1620 fits\n"
     ]
    },
    {
     "name": "stderr",
     "output_type": "stream",
     "text": [
      "[Parallel(n_jobs=1)]: Done 1620 out of 1620 | elapsed:  4.8min finished\n"
     ]
    },
    {
     "name": "stdout",
     "output_type": "stream",
     "text": [
      "Fitting  y_multi_point_inspection\n",
      "Fitting 5 folds for each of 324 candidates, totalling 1620 fits\n"
     ]
    },
    {
     "name": "stderr",
     "output_type": "stream",
     "text": [
      "[Parallel(n_jobs=1)]: Done 1620 out of 1620 | elapsed:  5.3min finished\n"
     ]
    },
    {
     "name": "stdout",
     "output_type": "stream",
     "text": [
      "Fitting  y_battery_test\n",
      "Fitting 5 folds for each of 324 candidates, totalling 1620 fits\n"
     ]
    },
    {
     "name": "stderr",
     "output_type": "stream",
     "text": [
      "[Parallel(n_jobs=1)]: Done 1620 out of 1620 | elapsed:  5.3min finished\n"
     ]
    },
    {
     "name": "stdout",
     "output_type": "stream",
     "text": [
      "Fitting  y_tire_inflation\n",
      "Fitting 5 folds for each of 324 candidates, totalling 1620 fits\n"
     ]
    },
    {
     "name": "stderr",
     "output_type": "stream",
     "text": [
      "[Parallel(n_jobs=1)]: Done 1620 out of 1620 | elapsed:  5.0min finished\n"
     ]
    },
    {
     "name": "stdout",
     "output_type": "stream",
     "text": [
      "Fitting  y_hazardous_waste\n",
      "Fitting 5 folds for each of 324 candidates, totalling 1620 fits\n"
     ]
    },
    {
     "name": "stderr",
     "output_type": "stream",
     "text": [
      "[Parallel(n_jobs=1)]: Done 1620 out of 1620 | elapsed:  5.0min finished\n"
     ]
    },
    {
     "name": "stdout",
     "output_type": "stream",
     "text": [
      "Fitting  y_change_oil\n",
      "Fitting 5 folds for each of 324 candidates, totalling 1620 fits\n"
     ]
    },
    {
     "name": "stderr",
     "output_type": "stream",
     "text": [
      "[Parallel(n_jobs=1)]: Done 1620 out of 1620 | elapsed:  4.9min finished\n"
     ]
    },
    {
     "name": "stdout",
     "output_type": "stream",
     "text": [
      "Fitting  y_filter\n",
      "Fitting 5 folds for each of 324 candidates, totalling 1620 fits\n"
     ]
    },
    {
     "name": "stderr",
     "output_type": "stream",
     "text": [
      "[Parallel(n_jobs=1)]: Done 1620 out of 1620 | elapsed:  4.8min finished\n"
     ]
    },
    {
     "name": "stdout",
     "output_type": "stream",
     "text": [
      "Fitting  y_belts_and_hoses\n",
      "Fitting 5 folds for each of 324 candidates, totalling 1620 fits\n"
     ]
    },
    {
     "name": "stderr",
     "output_type": "stream",
     "text": [
      "[Parallel(n_jobs=1)]: Done 1620 out of 1620 | elapsed:  5.0min finished\n"
     ]
    },
    {
     "name": "stdout",
     "output_type": "stream",
     "text": [
      "Fitting  y_air_filter\n",
      "Fitting 5 folds for each of 324 candidates, totalling 1620 fits\n"
     ]
    },
    {
     "name": "stderr",
     "output_type": "stream",
     "text": [
      "[Parallel(n_jobs=1)]: Done 1620 out of 1620 | elapsed:  5.3min finished\n"
     ]
    },
    {
     "name": "stdout",
     "output_type": "stream",
     "text": [
      "Fitting  y_safety_systems\n",
      "Fitting 5 folds for each of 324 candidates, totalling 1620 fits\n"
     ]
    },
    {
     "name": "stderr",
     "output_type": "stream",
     "text": [
      "[Parallel(n_jobs=1)]: Done 1620 out of 1620 | elapsed:  5.1min finished\n"
     ]
    },
    {
     "name": "stdout",
     "output_type": "stream",
     "text": [
      "Fitting  y_nitro_fill\n",
      "Fitting 5 folds for each of 324 candidates, totalling 1620 fits\n"
     ]
    },
    {
     "name": "stderr",
     "output_type": "stream",
     "text": [
      "[Parallel(n_jobs=1)]: Done 1620 out of 1620 | elapsed:  5.3min finished\n"
     ]
    },
    {
     "name": "stdout",
     "output_type": "stream",
     "text": [
      "Fitting  y_repair_or_refinish\n",
      "Fitting 5 folds for each of 324 candidates, totalling 1620 fits\n"
     ]
    },
    {
     "name": "stderr",
     "output_type": "stream",
     "text": [
      "[Parallel(n_jobs=1)]: Done 1620 out of 1620 | elapsed:  5.5min finished\n"
     ]
    }
   ],
   "source": [
    "model_dict = {}\n",
    "\n",
    "for output_col in df_y.columns:\n",
    "    \n",
    "    print('Fitting ', output_col)\n",
    "    y = df_y[output_col]\n",
    "    \n",
    "    parameter_grid = {\n",
    "                 'max_depth' : [4, 6, 8],\n",
    "                 'n_estimators': [50, 10],\n",
    "                 'max_features': ['sqrt', 'auto', 'log2'],\n",
    "                 'min_samples_split': [2, 3, 10],\n",
    "                 'min_samples_leaf': [1, 3, 10],\n",
    "                 'bootstrap': [True, False],\n",
    "                 }\n",
    "    forest = RandomForestClassifier()\n",
    "    cross_validation = StratifiedKFold(y, n_folds=5)\n",
    "\n",
    "    grid_search = GridSearchCV(forest,\n",
    "                               scoring='f1',\n",
    "                               param_grid=parameter_grid,\n",
    "                               cv=cross_validation,\n",
    "                               verbose = 1)\n",
    "\n",
    "    grid_search.fit(x, y)\n",
    "    model_dict[output_col] = grid_search"
   ]
  },
  {
   "cell_type": "code",
   "execution_count": 98,
   "metadata": {},
   "outputs": [
    {
     "data": {
      "text/plain": [
       "make_ford               1.0\n",
       "make_honda              0.0\n",
       "make_hyundai            0.0\n",
       "make_other              0.0\n",
       "make_suzuki             0.0\n",
       "engine_size             3.0\n",
       "mileage             73283.0\n",
       "fuel_diesel             0.0\n",
       "fuel_gas                1.0\n",
       "season_fall             0.0\n",
       "season_spring           0.0\n",
       "season_summer           0.0\n",
       "season_winter           1.0\n",
       "age                     4.0\n",
       "error_code_e302         0.0\n",
       "error_code_e412         0.0\n",
       "error_code_e420         0.0\n",
       "error_code_e421         0.0\n",
       "error_code_e502         0.0\n",
       "error_code_e601         1.0\n",
       "error_code_other        0.0\n",
       "fuel_other              0.0\n",
       "Name: 1, dtype: float64"
      ]
     },
     "execution_count": 98,
     "metadata": {},
     "output_type": "execute_result"
    }
   ],
   "source": [
    "df_x.loc[1,:]"
   ]
  },
  {
   "cell_type": "code",
   "execution_count": 104,
   "metadata": {},
   "outputs": [
    {
     "ename": "AttributeError",
     "evalue": "'GridSearchCV' object has no attribute 'classes_'",
     "output_type": "error",
     "traceback": [
      "\u001b[0;31m---------------------------------------------------------------------------\u001b[0m",
      "\u001b[0;31mAttributeError\u001b[0m                            Traceback (most recent call last)",
      "\u001b[0;32m<ipython-input-104-62c2fa2af7c8>\u001b[0m in \u001b[0;36m<module>\u001b[0;34m()\u001b[0m\n\u001b[0;32m----> 1\u001b[0;31m \u001b[0mmodel_dict\u001b[0m\u001b[0;34m[\u001b[0m\u001b[0;34m'y_battery_test'\u001b[0m\u001b[0;34m]\u001b[0m\u001b[0;34m.\u001b[0m\u001b[0mclasses_\u001b[0m\u001b[0;34m\u001b[0m\u001b[0m\n\u001b[0m",
      "\u001b[0;31mAttributeError\u001b[0m: 'GridSearchCV' object has no attribute 'classes_'"
     ]
    }
   ],
   "source": [
    "model_dict['y_battery_test'].predict_proba(example)[0][1]"
   ]
  },
  {
   "cell_type": "code",
   "execution_count": 117,
   "metadata": {},
   "outputs": [],
   "source": [
    "example = df_x.loc[100,:]\n",
    "example_probs = pd.DataFrame()\n",
    "\n",
    "for output_col in df_y.columns:\n",
    "    \n",
    "    example_probs.loc['prob', output_col] = model_dict[output_col].predict_proba(example)[0][1]"
   ]
  },
  {
   "cell_type": "code",
   "execution_count": 118,
   "metadata": {},
   "outputs": [
    {
     "data": {
      "text/html": [
       "<div>\n",
       "<style>\n",
       "    .dataframe thead tr:only-child th {\n",
       "        text-align: right;\n",
       "    }\n",
       "\n",
       "    .dataframe thead th {\n",
       "        text-align: left;\n",
       "    }\n",
       "\n",
       "    .dataframe tbody tr th {\n",
       "        vertical-align: top;\n",
       "    }\n",
       "</style>\n",
       "<table border=\"1\" class=\"dataframe\">\n",
       "  <thead>\n",
       "    <tr style=\"text-align: right;\">\n",
       "      <th></th>\n",
       "      <th>y_bespoke</th>\n",
       "      <th>y_multi_point_inspection</th>\n",
       "      <th>y_battery_test</th>\n",
       "      <th>y_tire_inflation</th>\n",
       "      <th>y_hazardous_waste</th>\n",
       "      <th>y_change_oil</th>\n",
       "      <th>y_filter</th>\n",
       "      <th>y_belts_and_hoses</th>\n",
       "      <th>y_air_filter</th>\n",
       "      <th>y_safety_systems</th>\n",
       "      <th>y_nitro_fill</th>\n",
       "      <th>y_repair_or_refinish</th>\n",
       "    </tr>\n",
       "  </thead>\n",
       "  <tbody>\n",
       "    <tr>\n",
       "      <th>prob</th>\n",
       "      <td>0.523643</td>\n",
       "      <td>0.256633</td>\n",
       "      <td>0.101279</td>\n",
       "      <td>0.008721</td>\n",
       "      <td>0.005537</td>\n",
       "      <td>0.045832</td>\n",
       "      <td>0.121483</td>\n",
       "      <td>0.01596</td>\n",
       "      <td>0.017068</td>\n",
       "      <td>0.017879</td>\n",
       "      <td>0.380692</td>\n",
       "      <td>0.046155</td>\n",
       "    </tr>\n",
       "  </tbody>\n",
       "</table>\n",
       "</div>"
      ],
      "text/plain": [
       "      y_bespoke  y_multi_point_inspection  y_battery_test  y_tire_inflation  \\\n",
       "prob   0.523643                  0.256633        0.101279          0.008721   \n",
       "\n",
       "      y_hazardous_waste  y_change_oil  y_filter  y_belts_and_hoses  \\\n",
       "prob           0.005537      0.045832  0.121483            0.01596   \n",
       "\n",
       "      y_air_filter  y_safety_systems  y_nitro_fill  y_repair_or_refinish  \n",
       "prob      0.017068          0.017879      0.380692              0.046155  "
      ]
     },
     "execution_count": 118,
     "metadata": {},
     "output_type": "execute_result"
    }
   ],
   "source": [
    "example_probs"
   ]
  },
  {
   "cell_type": "code",
   "execution_count": 119,
   "metadata": {},
   "outputs": [
    {
     "data": {
      "text/plain": [
       "y_bespoke                   0.523643\n",
       "y_nitro_fill                0.380692\n",
       "y_multi_point_inspection    0.256633\n",
       "y_filter                    0.121483\n",
       "y_battery_test              0.101279\n",
       "y_repair_or_refinish        0.046155\n",
       "y_change_oil                0.045832\n",
       "y_safety_systems            0.017879\n",
       "y_air_filter                0.017068\n",
       "y_belts_and_hoses           0.015960\n",
       "y_tire_inflation            0.008721\n",
       "y_hazardous_waste           0.005537\n",
       "Name: prob, dtype: float64"
      ]
     },
     "execution_count": 119,
     "metadata": {},
     "output_type": "execute_result"
    }
   ],
   "source": [
    "example_probs.T.squeeze().sort_values(ascending = False)"
   ]
  },
  {
   "cell_type": "code",
   "execution_count": 121,
   "metadata": {
    "scrolled": true
   },
   "outputs": [
    {
     "data": {
      "image/png": "[encoded data removed]",
      "text/plain": [
       "<matplotlib.figure.Figure at 0x116bc7710>"
      ]
     },
     "metadata": {},
     "output_type": "display_data"
    }
   ],
   "source": [
    "fig, ax = plt.subplots(figsize=(12,6))\n",
    "to_plot = example_probs.T.squeeze().sort_values(ascending = False)\n",
    "sns.barplot(x = [col[2:] for col in to_plot.index], y = to_plot, palette = 'Blues_d')\n",
    "sns.despine()\n",
    "plt.xticks(rotation = 45, ha = 'right')\n",
    "plt.show()"
   ]
  },
  {
   "cell_type": "code",
   "execution_count": 125,
   "metadata": {},
   "outputs": [
    {
     "data": {
      "text/plain": [
       "0.042004773269689731"
      ]
     },
     "execution_count": 125,
     "metadata": {},
     "output_type": "execute_result"
    }
   ],
   "source": [
    "sk.metrics.f1_score(y, y_pred)"
   ]
  },
  {
   "cell_type": "code",
   "execution_count": 124,
   "metadata": {},
   "outputs": [
    {
     "data": {
      "text/plain": [
       "2047"
      ]
     },
     "execution_count": 124,
     "metadata": {},
     "output_type": "execute_result"
    }
   ],
   "source": [
    "y.sum()"
   ]
  },
  {
   "cell_type": "code",
   "execution_count": 114,
   "metadata": {},
   "outputs": [],
   "source": [
    "results = pd.DataFrame()\n",
    "\n",
    "for output_col in df_y.columns:\n",
    "    \n",
    "    y_pred = model_dict[output_col].predict(x)\n",
    "    \n",
    "    results.loc[output_col, 'accuracy'] = sk.metrics.accuracy_score(y, y_pred)\n",
    "    results.loc[output_col, 'precision'] = sk.metrics.precision_score(y, y_pred)\n",
    "    results.loc[output_col, 'recall'] = sk.metrics.recall_score(y, y_pred)\n",
    "    results.loc[output_col, 'f-score'] = sk.metrics.f1_score(y, y_pred)\n",
    "    results.loc[output_col, 'roc auc'] = sk.metrics.roc_auc_score(y, y_pred)"
   ]
  },
  {
   "cell_type": "code",
   "execution_count": 115,
   "metadata": {},
   "outputs": [
    {
     "data": {
      "text/html": [
       "<div>\n",
       "<style>\n",
       "    .dataframe thead tr:only-child th {\n",
       "        text-align: right;\n",
       "    }\n",
       "\n",
       "    .dataframe thead th {\n",
       "        text-align: left;\n",
       "    }\n",
       "\n",
       "    .dataframe tbody tr th {\n",
       "        vertical-align: top;\n",
       "    }\n",
       "</style>\n",
       "<table border=\"1\" class=\"dataframe\">\n",
       "  <thead>\n",
       "    <tr style=\"text-align: right;\">\n",
       "      <th></th>\n",
       "      <th>accuracy</th>\n",
       "      <th>precision</th>\n",
       "      <th>recall</th>\n",
       "      <th>f-score</th>\n",
       "      <th>roc auc</th>\n",
       "    </tr>\n",
       "  </thead>\n",
       "  <tbody>\n",
       "    <tr>\n",
       "      <th>y_bespoke</th>\n",
       "      <td>0.713086</td>\n",
       "      <td>0.045152</td>\n",
       "      <td>0.063019</td>\n",
       "      <td>0.052610</td>\n",
       "      <td>0.435087</td>\n",
       "    </tr>\n",
       "    <tr>\n",
       "      <th>y_multi_point_inspection</th>\n",
       "      <td>0.604582</td>\n",
       "      <td>0.135176</td>\n",
       "      <td>0.394235</td>\n",
       "      <td>0.201322</td>\n",
       "      <td>0.514628</td>\n",
       "    </tr>\n",
       "    <tr>\n",
       "      <th>y_battery_test</th>\n",
       "      <td>0.867288</td>\n",
       "      <td>0.081967</td>\n",
       "      <td>0.004885</td>\n",
       "      <td>0.009221</td>\n",
       "      <td>0.498484</td>\n",
       "    </tr>\n",
       "    <tr>\n",
       "      <th>y_tire_inflation</th>\n",
       "      <td>0.754832</td>\n",
       "      <td>0.124561</td>\n",
       "      <td>0.155838</td>\n",
       "      <td>0.138455</td>\n",
       "      <td>0.498674</td>\n",
       "    </tr>\n",
       "    <tr>\n",
       "      <th>y_hazardous_waste</th>\n",
       "      <td>0.857346</td>\n",
       "      <td>0.087774</td>\n",
       "      <td>0.013679</td>\n",
       "      <td>0.023669</td>\n",
       "      <td>0.496554</td>\n",
       "    </tr>\n",
       "    <tr>\n",
       "      <th>y_change_oil</th>\n",
       "      <td>0.873587</td>\n",
       "      <td>0.000000</td>\n",
       "      <td>0.000000</td>\n",
       "      <td>0.000000</td>\n",
       "      <td>0.500000</td>\n",
       "    </tr>\n",
       "    <tr>\n",
       "      <th>y_filter</th>\n",
       "      <td>0.870067</td>\n",
       "      <td>0.047619</td>\n",
       "      <td>0.001466</td>\n",
       "      <td>0.002844</td>\n",
       "      <td>0.498612</td>\n",
       "    </tr>\n",
       "    <tr>\n",
       "      <th>y_belts_and_hoses</th>\n",
       "      <td>0.873587</td>\n",
       "      <td>0.000000</td>\n",
       "      <td>0.000000</td>\n",
       "      <td>0.000000</td>\n",
       "      <td>0.500000</td>\n",
       "    </tr>\n",
       "    <tr>\n",
       "      <th>y_air_filter</th>\n",
       "      <td>0.873587</td>\n",
       "      <td>0.000000</td>\n",
       "      <td>0.000000</td>\n",
       "      <td>0.000000</td>\n",
       "      <td>0.500000</td>\n",
       "    </tr>\n",
       "    <tr>\n",
       "      <th>y_safety_systems</th>\n",
       "      <td>0.873526</td>\n",
       "      <td>0.000000</td>\n",
       "      <td>0.000000</td>\n",
       "      <td>0.000000</td>\n",
       "      <td>0.499965</td>\n",
       "    </tr>\n",
       "    <tr>\n",
       "      <th>y_nitro_fill</th>\n",
       "      <td>0.872476</td>\n",
       "      <td>0.000000</td>\n",
       "      <td>0.000000</td>\n",
       "      <td>0.000000</td>\n",
       "      <td>0.499364</td>\n",
       "    </tr>\n",
       "    <tr>\n",
       "      <th>y_repair_or_refinish</th>\n",
       "      <td>0.876058</td>\n",
       "      <td>0.916667</td>\n",
       "      <td>0.021495</td>\n",
       "      <td>0.042005</td>\n",
       "      <td>0.510606</td>\n",
       "    </tr>\n",
       "  </tbody>\n",
       "</table>\n",
       "</div>"
      ],
      "text/plain": [
       "                          accuracy  precision    recall   f-score   roc auc\n",
       "y_bespoke                 0.713086   0.045152  0.063019  0.052610  0.435087\n",
       "y_multi_point_inspection  0.604582   0.135176  0.394235  0.201322  0.514628\n",
       "y_battery_test            0.867288   0.081967  0.004885  0.009221  0.498484\n",
       "y_tire_inflation          0.754832   0.124561  0.155838  0.138455  0.498674\n",
       "y_hazardous_waste         0.857346   0.087774  0.013679  0.023669  0.496554\n",
       "y_change_oil              0.873587   0.000000  0.000000  0.000000  0.500000\n",
       "y_filter                  0.870067   0.047619  0.001466  0.002844  0.498612\n",
       "y_belts_and_hoses         0.873587   0.000000  0.000000  0.000000  0.500000\n",
       "y_air_filter              0.873587   0.000000  0.000000  0.000000  0.500000\n",
       "y_safety_systems          0.873526   0.000000  0.000000  0.000000  0.499965\n",
       "y_nitro_fill              0.872476   0.000000  0.000000  0.000000  0.499364\n",
       "y_repair_or_refinish      0.876058   0.916667  0.021495  0.042005  0.510606"
      ]
     },
     "execution_count": 115,
     "metadata": {},
     "output_type": "execute_result"
    }
   ],
   "source": [
    "results"
   ]
  },
  {
   "cell_type": "code",
   "execution_count": null,
   "metadata": {
    "collapsed": true
   },
   "outputs": [],
   "source": [
    "joblib.dump(model, 'multi_point_inspection.pkl')"
   ]
  },
  {
   "cell_type": "code",
   "execution_count": 20,
   "metadata": {
    "collapsed": true
   },
   "outputs": [],
   "source": [
    "from sklearn.externals import joblib"
   ]
  },
  {
   "cell_type": "code",
   "execution_count": 21,
   "metadata": {},
   "outputs": [
    {
     "data": {
      "text/plain": [
       "['multi_point_inspection.pkl']"
      ]
     },
     "execution_count": 21,
     "metadata": {},
     "output_type": "execute_result"
    }
   ],
   "source": [
    "joblib.dump(clf, 'multi_point_inspection.pkl')"
   ]
  },
  {
   "cell_type": "code",
   "execution_count": 72,
   "metadata": {},
   "outputs": [],
   "source": [
    "y = df_y['y_battery_test']"
   ]
  },
  {
   "cell_type": "code",
   "execution_count": 127,
   "metadata": {},
   "outputs": [],
   "source": [
    "for output_col in df_y.columns:\n",
    "    joblib.dump(model_dict[output_col], 'rf_' + output_col + '.pkl')"
   ]
  },
  {
   "cell_type": "code",
   "execution_count": 132,
   "metadata": {
    "collapsed": true
   },
   "outputs": [],
   "source": [
    "from sklearn.preprocessing import StandardScaler"
   ]
  },
  {
   "cell_type": "code",
   "execution_count": 137,
   "metadata": {
    "collapsed": true
   },
   "outputs": [],
   "source": [
    "scaler = StandardScaler()"
   ]
  },
  {
   "cell_type": "markdown",
   "metadata": {},
   "source": [
    "## k-Nearest Neighbors"
   ]
  },
  {
   "cell_type": "code",
   "execution_count": 144,
   "metadata": {
    "collapsed": true
   },
   "outputs": [],
   "source": [
    "from sklearn.neighbors import KNeighborsClassifier"
   ]
  },
  {
   "cell_type": "code",
   "execution_count": 140,
   "metadata": {},
   "outputs": [],
   "source": [
    "x[['engine_size', 'mileage', 'age']] = scaler.fit_transform(df_x[['engine_size', 'mileage', 'age']].fillna(df_x.median()))"
   ]
  },
  {
   "cell_type": "code",
   "execution_count": 145,
   "metadata": {},
   "outputs": [
    {
     "name": "stdout",
     "output_type": "stream",
     "text": [
      "Fitting  y_bespoke\n",
      "Fitting 5 folds for each of 12 candidates, totalling 60 fits\n"
     ]
    },
    {
     "name": "stderr",
     "output_type": "stream",
     "text": [
      "[Parallel(n_jobs=1)]: Done  60 out of  60 | elapsed:   23.2s finished\n"
     ]
    },
    {
     "name": "stdout",
     "output_type": "stream",
     "text": [
      "Fitting  y_multi_point_inspection\n",
      "Fitting 5 folds for each of 12 candidates, totalling 60 fits\n"
     ]
    },
    {
     "name": "stderr",
     "output_type": "stream",
     "text": [
      "[Parallel(n_jobs=1)]: Done  60 out of  60 | elapsed:   24.5s finished\n"
     ]
    },
    {
     "name": "stdout",
     "output_type": "stream",
     "text": [
      "Fitting  y_battery_test\n",
      "Fitting 5 folds for each of 12 candidates, totalling 60 fits\n"
     ]
    },
    {
     "name": "stderr",
     "output_type": "stream",
     "text": [
      "[Parallel(n_jobs=1)]: Done  60 out of  60 | elapsed:   26.9s finished\n"
     ]
    },
    {
     "name": "stdout",
     "output_type": "stream",
     "text": [
      "Fitting  y_tire_inflation\n",
      "Fitting 5 folds for each of 12 candidates, totalling 60 fits\n"
     ]
    },
    {
     "name": "stderr",
     "output_type": "stream",
     "text": [
      "[Parallel(n_jobs=1)]: Done  60 out of  60 | elapsed:   29.6s finished\n"
     ]
    },
    {
     "name": "stdout",
     "output_type": "stream",
     "text": [
      "Fitting  y_hazardous_waste\n",
      "Fitting 5 folds for each of 12 candidates, totalling 60 fits\n"
     ]
    },
    {
     "name": "stderr",
     "output_type": "stream",
     "text": [
      "[Parallel(n_jobs=1)]: Done  60 out of  60 | elapsed:   26.9s finished\n"
     ]
    },
    {
     "name": "stdout",
     "output_type": "stream",
     "text": [
      "Fitting  y_change_oil\n",
      "Fitting 5 folds for each of 12 candidates, totalling 60 fits\n"
     ]
    },
    {
     "name": "stderr",
     "output_type": "stream",
     "text": [
      "[Parallel(n_jobs=1)]: Done  60 out of  60 | elapsed:   28.7s finished\n"
     ]
    },
    {
     "name": "stdout",
     "output_type": "stream",
     "text": [
      "Fitting  y_filter\n",
      "Fitting 5 folds for each of 12 candidates, totalling 60 fits\n"
     ]
    },
    {
     "name": "stderr",
     "output_type": "stream",
     "text": [
      "[Parallel(n_jobs=1)]: Done  60 out of  60 | elapsed:   24.7s finished\n"
     ]
    },
    {
     "name": "stdout",
     "output_type": "stream",
     "text": [
      "Fitting  y_belts_and_hoses\n",
      "Fitting 5 folds for each of 12 candidates, totalling 60 fits\n"
     ]
    },
    {
     "name": "stderr",
     "output_type": "stream",
     "text": [
      "[Parallel(n_jobs=1)]: Done  60 out of  60 | elapsed:   26.2s finished\n"
     ]
    },
    {
     "name": "stdout",
     "output_type": "stream",
     "text": [
      "Fitting  y_air_filter\n",
      "Fitting 5 folds for each of 12 candidates, totalling 60 fits\n"
     ]
    },
    {
     "name": "stderr",
     "output_type": "stream",
     "text": [
      "[Parallel(n_jobs=1)]: Done  60 out of  60 | elapsed:   30.9s finished\n"
     ]
    },
    {
     "name": "stdout",
     "output_type": "stream",
     "text": [
      "Fitting  y_safety_systems\n",
      "Fitting 5 folds for each of 12 candidates, totalling 60 fits\n"
     ]
    },
    {
     "name": "stderr",
     "output_type": "stream",
     "text": [
      "[Parallel(n_jobs=1)]: Done  60 out of  60 | elapsed:   27.5s finished\n"
     ]
    },
    {
     "name": "stdout",
     "output_type": "stream",
     "text": [
      "Fitting  y_nitro_fill\n",
      "Fitting 5 folds for each of 12 candidates, totalling 60 fits\n"
     ]
    },
    {
     "name": "stderr",
     "output_type": "stream",
     "text": [
      "[Parallel(n_jobs=1)]: Done  60 out of  60 | elapsed:   32.3s finished\n"
     ]
    },
    {
     "name": "stdout",
     "output_type": "stream",
     "text": [
      "Fitting  y_repair_or_refinish\n",
      "Fitting 5 folds for each of 12 candidates, totalling 60 fits\n"
     ]
    },
    {
     "name": "stderr",
     "output_type": "stream",
     "text": [
      "[Parallel(n_jobs=1)]: Done  60 out of  60 | elapsed:   30.8s finished\n"
     ]
    }
   ],
   "source": [
    "knn_model_dict = {}\n",
    "\n",
    "for output_col in df_y.columns:\n",
    "    \n",
    "    print('Fitting', output_col)\n",
    "    y = df_y[output_col]\n",
    "    \n",
    "    parameter_grid = {\n",
    "                 'n_neighbors' : [1,3,10,20],\n",
    "                 'leaf_size': [10, 30, 100]\n",
    "                 }\n",
    "    knn = KNeighborsClassifier()\n",
    "    cross_validation = StratifiedKFold(y, n_folds=5)\n",
    "\n",
    "    grid_search = GridSearchCV(knn,\n",
    "                               scoring='f1',\n",
    "                               param_grid=parameter_grid,\n",
    "                               cv=cross_validation,\n",
    "                               verbose = 1)\n",
    "\n",
    "    grid_search.fit(x, y)\n",
    "    knn_model_dict[output_col] = grid_search"
   ]
  },
  {
   "cell_type": "code",
   "execution_count": 212,
   "metadata": {},
   "outputs": [
    {
     "data": {
      "text/plain": [
       "{'leaf_size': 30, 'n_neighbors': 1}"
      ]
     },
     "execution_count": 212,
     "metadata": {},
     "output_type": "execute_result"
    }
   ],
   "source": [
    "knn_model_dict['y_repair_or_refinish'].best_params_"
   ]
  },
  {
   "cell_type": "code",
   "execution_count": 146,
   "metadata": {
    "collapsed": true
   },
   "outputs": [],
   "source": [
    "knn_results = pd.DataFrame()\n",
    "\n",
    "for output_col in df_y.columns:\n",
    "    \n",
    "    y_pred = knn_model_dict[output_col].predict(x)\n",
    "    \n",
    "    knn_results.loc[output_col, 'accuracy'] = sk.metrics.accuracy_score(y, y_pred)\n",
    "    knn_results.loc[output_col, 'precision'] = sk.metrics.precision_score(y, y_pred)\n",
    "    knn_results.loc[output_col, 'recall'] = sk.metrics.recall_score(y, y_pred)\n",
    "    knn_results.loc[output_col, 'f-score'] = sk.metrics.f1_score(y, y_pred)"
   ]
  },
  {
   "cell_type": "code",
   "execution_count": 148,
   "metadata": {},
   "outputs": [],
   "source": [
    "knn_results.index = [row[2:].replace('_', ' ') for row in knn_results.index]"
   ]
  },
  {
   "cell_type": "code",
   "execution_count": 151,
   "metadata": {},
   "outputs": [],
   "source": [
    "knn_results = knn_results.drop('roc auc', axis = 1)"
   ]
  },
  {
   "cell_type": "code",
   "execution_count": 159,
   "metadata": {},
   "outputs": [
    {
     "data": {
      "image/png": "[encoded data removed]",
      "text/plain": [
       "<matplotlib.figure.Figure at 0x116eca400>"
      ]
     },
     "metadata": {},
     "output_type": "display_data"
    }
   ],
   "source": [
    "knn_results['f-score'].sort_values().plot(kind = 'bar')\n",
    "plt.show()"
   ]
  },
  {
   "cell_type": "code",
   "execution_count": 160,
   "metadata": {},
   "outputs": [
    {
     "data": {
      "text/html": [
       "<div>\n",
       "<style>\n",
       "    .dataframe thead tr:only-child th {\n",
       "        text-align: right;\n",
       "    }\n",
       "\n",
       "    .dataframe thead th {\n",
       "        text-align: left;\n",
       "    }\n",
       "\n",
       "    .dataframe tbody tr th {\n",
       "        vertical-align: top;\n",
       "    }\n",
       "</style>\n",
       "<table border=\"1\" class=\"dataframe\">\n",
       "  <thead>\n",
       "    <tr style=\"text-align: right;\">\n",
       "      <th></th>\n",
       "      <th>accuracy</th>\n",
       "      <th>precision</th>\n",
       "      <th>recall</th>\n",
       "      <th>f-score</th>\n",
       "    </tr>\n",
       "  </thead>\n",
       "  <tbody>\n",
       "    <tr>\n",
       "      <th>bespoke</th>\n",
       "      <td>0.567282</td>\n",
       "      <td>0.015625</td>\n",
       "      <td>0.039082</td>\n",
       "      <td>0.022325</td>\n",
       "    </tr>\n",
       "    <tr>\n",
       "      <th>multi point inspection</th>\n",
       "      <td>0.614525</td>\n",
       "      <td>0.116194</td>\n",
       "      <td>0.310210</td>\n",
       "      <td>0.169063</td>\n",
       "    </tr>\n",
       "    <tr>\n",
       "      <th>battery test</th>\n",
       "      <td>0.683505</td>\n",
       "      <td>0.101295</td>\n",
       "      <td>0.191011</td>\n",
       "      <td>0.132385</td>\n",
       "    </tr>\n",
       "    <tr>\n",
       "      <th>tire inflation</th>\n",
       "      <td>0.781943</td>\n",
       "      <td>0.102784</td>\n",
       "      <td>0.093796</td>\n",
       "      <td>0.098084</td>\n",
       "    </tr>\n",
       "    <tr>\n",
       "      <th>hazardous waste</th>\n",
       "      <td>0.818008</td>\n",
       "      <td>0.123746</td>\n",
       "      <td>0.072301</td>\n",
       "      <td>0.091274</td>\n",
       "    </tr>\n",
       "    <tr>\n",
       "      <th>change oil</th>\n",
       "      <td>0.800716</td>\n",
       "      <td>0.103495</td>\n",
       "      <td>0.075232</td>\n",
       "      <td>0.087129</td>\n",
       "    </tr>\n",
       "    <tr>\n",
       "      <th>filter</th>\n",
       "      <td>0.671216</td>\n",
       "      <td>0.091295</td>\n",
       "      <td>0.178798</td>\n",
       "      <td>0.120872</td>\n",
       "    </tr>\n",
       "    <tr>\n",
       "      <th>belts and hoses</th>\n",
       "      <td>0.812759</td>\n",
       "      <td>0.046083</td>\n",
       "      <td>0.024426</td>\n",
       "      <td>0.031928</td>\n",
       "    </tr>\n",
       "    <tr>\n",
       "      <th>air filter</th>\n",
       "      <td>0.824060</td>\n",
       "      <td>0.141964</td>\n",
       "      <td>0.077675</td>\n",
       "      <td>0.100410</td>\n",
       "    </tr>\n",
       "    <tr>\n",
       "      <th>safety systems</th>\n",
       "      <td>0.796023</td>\n",
       "      <td>0.048851</td>\n",
       "      <td>0.033219</td>\n",
       "      <td>0.039546</td>\n",
       "    </tr>\n",
       "    <tr>\n",
       "      <th>nitro fill</th>\n",
       "      <td>0.840919</td>\n",
       "      <td>0.166456</td>\n",
       "      <td>0.064485</td>\n",
       "      <td>0.092958</td>\n",
       "    </tr>\n",
       "    <tr>\n",
       "      <th>repair or refinish</th>\n",
       "      <td>0.983511</td>\n",
       "      <td>0.931620</td>\n",
       "      <td>0.938447</td>\n",
       "      <td>0.935021</td>\n",
       "    </tr>\n",
       "  </tbody>\n",
       "</table>\n",
       "</div>"
      ],
      "text/plain": [
       "                        accuracy  precision    recall   f-score\n",
       "bespoke                 0.567282   0.015625  0.039082  0.022325\n",
       "multi point inspection  0.614525   0.116194  0.310210  0.169063\n",
       "battery test            0.683505   0.101295  0.191011  0.132385\n",
       "tire inflation          0.781943   0.102784  0.093796  0.098084\n",
       "hazardous waste         0.818008   0.123746  0.072301  0.091274\n",
       "change oil              0.800716   0.103495  0.075232  0.087129\n",
       "filter                  0.671216   0.091295  0.178798  0.120872\n",
       "belts and hoses         0.812759   0.046083  0.024426  0.031928\n",
       "air filter              0.824060   0.141964  0.077675  0.100410\n",
       "safety systems          0.796023   0.048851  0.033219  0.039546\n",
       "nitro fill              0.840919   0.166456  0.064485  0.092958\n",
       "repair or refinish      0.983511   0.931620  0.938447  0.935021"
      ]
     },
     "execution_count": 160,
     "metadata": {},
     "output_type": "execute_result"
    }
   ],
   "source": [
    "knn_results"
   ]
  },
  {
   "cell_type": "markdown",
   "metadata": {},
   "source": [
    "## SVM"
   ]
  },
  {
   "cell_type": "code",
   "execution_count": 161,
   "metadata": {
    "collapsed": true
   },
   "outputs": [],
   "source": [
    "from sklearn.svm import LinearSVC"
   ]
  },
  {
   "cell_type": "code",
   "execution_count": 164,
   "metadata": {},
   "outputs": [
    {
     "name": "stdout",
     "output_type": "stream",
     "text": [
      "Fitting y_bespoke\n",
      "Fitting 5 folds for each of 2 candidates, totalling 10 fits\n"
     ]
    },
    {
     "name": "stderr",
     "output_type": "stream",
     "text": [
      "[Parallel(n_jobs=1)]: Done  10 out of  10 | elapsed:    5.4s finished\n"
     ]
    },
    {
     "name": "stdout",
     "output_type": "stream",
     "text": [
      "Fitting y_multi_point_inspection\n",
      "Fitting 5 folds for each of 2 candidates, totalling 10 fits\n"
     ]
    },
    {
     "name": "stderr",
     "output_type": "stream",
     "text": [
      "[Parallel(n_jobs=1)]: Done  10 out of  10 | elapsed:    4.7s finished\n"
     ]
    },
    {
     "name": "stdout",
     "output_type": "stream",
     "text": [
      "Fitting y_battery_test\n",
      "Fitting 5 folds for each of 2 candidates, totalling 10 fits\n"
     ]
    },
    {
     "name": "stderr",
     "output_type": "stream",
     "text": [
      "[Parallel(n_jobs=1)]: Done  10 out of  10 | elapsed:    4.6s finished\n"
     ]
    },
    {
     "name": "stdout",
     "output_type": "stream",
     "text": [
      "Fitting y_tire_inflation\n",
      "Fitting 5 folds for each of 2 candidates, totalling 10 fits\n"
     ]
    },
    {
     "name": "stderr",
     "output_type": "stream",
     "text": [
      "[Parallel(n_jobs=1)]: Done  10 out of  10 | elapsed:    3.9s finished\n"
     ]
    },
    {
     "name": "stdout",
     "output_type": "stream",
     "text": [
      "Fitting y_hazardous_waste\n",
      "Fitting 5 folds for each of 2 candidates, totalling 10 fits\n"
     ]
    },
    {
     "name": "stderr",
     "output_type": "stream",
     "text": [
      "[Parallel(n_jobs=1)]: Done  10 out of  10 | elapsed:    3.4s finished\n"
     ]
    },
    {
     "name": "stdout",
     "output_type": "stream",
     "text": [
      "Fitting y_change_oil\n",
      "Fitting 5 folds for each of 2 candidates, totalling 10 fits\n"
     ]
    },
    {
     "name": "stderr",
     "output_type": "stream",
     "text": [
      "[Parallel(n_jobs=1)]: Done  10 out of  10 | elapsed:    5.2s finished\n"
     ]
    },
    {
     "name": "stdout",
     "output_type": "stream",
     "text": [
      "Fitting y_filter\n",
      "Fitting 5 folds for each of 2 candidates, totalling 10 fits\n"
     ]
    },
    {
     "name": "stderr",
     "output_type": "stream",
     "text": [
      "[Parallel(n_jobs=1)]: Done  10 out of  10 | elapsed:    6.5s finished\n"
     ]
    },
    {
     "name": "stdout",
     "output_type": "stream",
     "text": [
      "Fitting y_belts_and_hoses\n",
      "Fitting 5 folds for each of 2 candidates, totalling 10 fits\n"
     ]
    },
    {
     "name": "stderr",
     "output_type": "stream",
     "text": [
      "[Parallel(n_jobs=1)]: Done  10 out of  10 | elapsed:    4.6s finished\n"
     ]
    },
    {
     "name": "stdout",
     "output_type": "stream",
     "text": [
      "Fitting y_air_filter\n",
      "Fitting 5 folds for each of 2 candidates, totalling 10 fits\n"
     ]
    },
    {
     "name": "stderr",
     "output_type": "stream",
     "text": [
      "[Parallel(n_jobs=1)]: Done  10 out of  10 | elapsed:    6.6s finished\n"
     ]
    },
    {
     "name": "stdout",
     "output_type": "stream",
     "text": [
      "Fitting y_safety_systems\n",
      "Fitting 5 folds for each of 2 candidates, totalling 10 fits\n"
     ]
    },
    {
     "name": "stderr",
     "output_type": "stream",
     "text": [
      "[Parallel(n_jobs=1)]: Done  10 out of  10 | elapsed:    5.6s finished\n"
     ]
    },
    {
     "name": "stdout",
     "output_type": "stream",
     "text": [
      "Fitting y_nitro_fill\n",
      "Fitting 5 folds for each of 2 candidates, totalling 10 fits\n"
     ]
    },
    {
     "name": "stderr",
     "output_type": "stream",
     "text": [
      "[Parallel(n_jobs=1)]: Done  10 out of  10 | elapsed:    1.5s finished\n"
     ]
    },
    {
     "name": "stdout",
     "output_type": "stream",
     "text": [
      "Fitting y_repair_or_refinish\n",
      "Fitting 5 folds for each of 2 candidates, totalling 10 fits\n"
     ]
    },
    {
     "name": "stderr",
     "output_type": "stream",
     "text": [
      "[Parallel(n_jobs=1)]: Done  10 out of  10 | elapsed:    9.3s finished\n"
     ]
    }
   ],
   "source": [
    "svm_model_dict = {}\n",
    "\n",
    "for output_col in df_y.columns:\n",
    "    \n",
    "    print('Fitting', output_col)\n",
    "    y = df_y[output_col]\n",
    "    \n",
    "    parameter_grid = {\n",
    "                 'loss': ['hinge', 'squared_hinge']\n",
    "                 }\n",
    "    svm = LinearSVC()\n",
    "    cross_validation = StratifiedKFold(y, n_folds=5)\n",
    "\n",
    "    grid_search = GridSearchCV(svm,\n",
    "                               scoring='f1',\n",
    "                               param_grid=parameter_grid,\n",
    "                               cv=cross_validation,\n",
    "                               verbose = 1)\n",
    "\n",
    "    grid_search.fit(x, y)\n",
    "    svm_model_dict[output_col] = grid_search"
   ]
  },
  {
   "cell_type": "code",
   "execution_count": 165,
   "metadata": {
    "collapsed": true
   },
   "outputs": [],
   "source": [
    "svm_results = pd.DataFrame()\n",
    "\n",
    "for output_col in df_y.columns:\n",
    "    \n",
    "    y_pred = svm_model_dict[output_col].predict(x)\n",
    "    \n",
    "    svm_results.loc[output_col, 'accuracy'] = sk.metrics.accuracy_score(y, y_pred)\n",
    "    svm_results.loc[output_col, 'precision'] = sk.metrics.precision_score(y, y_pred)\n",
    "    svm_results.loc[output_col, 'recall'] = sk.metrics.recall_score(y, y_pred)\n",
    "    svm_results.loc[output_col, 'f-score'] = sk.metrics.f1_score(y, y_pred)"
   ]
  },
  {
   "cell_type": "code",
   "execution_count": 166,
   "metadata": {
    "collapsed": true
   },
   "outputs": [],
   "source": [
    "svm_results.index = [row[2:].replace('_', ' ') for row in svm_results.index]"
   ]
  },
  {
   "cell_type": "code",
   "execution_count": 167,
   "metadata": {},
   "outputs": [
    {
     "data": {
      "text/html": [
       "<div>\n",
       "<style>\n",
       "    .dataframe thead tr:only-child th {\n",
       "        text-align: right;\n",
       "    }\n",
       "\n",
       "    .dataframe thead th {\n",
       "        text-align: left;\n",
       "    }\n",
       "\n",
       "    .dataframe tbody tr th {\n",
       "        vertical-align: top;\n",
       "    }\n",
       "</style>\n",
       "<table border=\"1\" class=\"dataframe\">\n",
       "  <thead>\n",
       "    <tr style=\"text-align: right;\">\n",
       "      <th></th>\n",
       "      <th>accuracy</th>\n",
       "      <th>precision</th>\n",
       "      <th>recall</th>\n",
       "      <th>f-score</th>\n",
       "    </tr>\n",
       "  </thead>\n",
       "  <tbody>\n",
       "    <tr>\n",
       "      <th>bespoke</th>\n",
       "      <td>0.805224</td>\n",
       "      <td>0.045939</td>\n",
       "      <td>0.027357</td>\n",
       "      <td>0.034293</td>\n",
       "    </tr>\n",
       "    <tr>\n",
       "      <th>multi point inspection</th>\n",
       "      <td>0.684123</td>\n",
       "      <td>0.144907</td>\n",
       "      <td>0.305813</td>\n",
       "      <td>0.196639</td>\n",
       "    </tr>\n",
       "    <tr>\n",
       "      <th>battery test</th>\n",
       "      <td>0.871611</td>\n",
       "      <td>0.203704</td>\n",
       "      <td>0.005374</td>\n",
       "      <td>0.010471</td>\n",
       "    </tr>\n",
       "    <tr>\n",
       "      <th>tire inflation</th>\n",
       "      <td>0.742173</td>\n",
       "      <td>0.119728</td>\n",
       "      <td>0.163654</td>\n",
       "      <td>0.138287</td>\n",
       "    </tr>\n",
       "    <tr>\n",
       "      <th>hazardous waste</th>\n",
       "      <td>0.873649</td>\n",
       "      <td>1.000000</td>\n",
       "      <td>0.000489</td>\n",
       "      <td>0.000977</td>\n",
       "    </tr>\n",
       "    <tr>\n",
       "      <th>change oil</th>\n",
       "      <td>0.873587</td>\n",
       "      <td>0.000000</td>\n",
       "      <td>0.000000</td>\n",
       "      <td>0.000000</td>\n",
       "    </tr>\n",
       "    <tr>\n",
       "      <th>filter</th>\n",
       "      <td>0.873340</td>\n",
       "      <td>0.300000</td>\n",
       "      <td>0.001466</td>\n",
       "      <td>0.002917</td>\n",
       "    </tr>\n",
       "    <tr>\n",
       "      <th>belts and hoses</th>\n",
       "      <td>0.873587</td>\n",
       "      <td>0.000000</td>\n",
       "      <td>0.000000</td>\n",
       "      <td>0.000000</td>\n",
       "    </tr>\n",
       "    <tr>\n",
       "      <th>air filter</th>\n",
       "      <td>0.873587</td>\n",
       "      <td>0.000000</td>\n",
       "      <td>0.000000</td>\n",
       "      <td>0.000000</td>\n",
       "    </tr>\n",
       "    <tr>\n",
       "      <th>safety systems</th>\n",
       "      <td>0.873587</td>\n",
       "      <td>0.000000</td>\n",
       "      <td>0.000000</td>\n",
       "      <td>0.000000</td>\n",
       "    </tr>\n",
       "    <tr>\n",
       "      <th>nitro fill</th>\n",
       "      <td>0.873587</td>\n",
       "      <td>0.000000</td>\n",
       "      <td>0.000000</td>\n",
       "      <td>0.000000</td>\n",
       "    </tr>\n",
       "    <tr>\n",
       "      <th>repair or refinish</th>\n",
       "      <td>0.873587</td>\n",
       "      <td>0.000000</td>\n",
       "      <td>0.000000</td>\n",
       "      <td>0.000000</td>\n",
       "    </tr>\n",
       "  </tbody>\n",
       "</table>\n",
       "</div>"
      ],
      "text/plain": [
       "                        accuracy  precision    recall   f-score\n",
       "bespoke                 0.805224   0.045939  0.027357  0.034293\n",
       "multi point inspection  0.684123   0.144907  0.305813  0.196639\n",
       "battery test            0.871611   0.203704  0.005374  0.010471\n",
       "tire inflation          0.742173   0.119728  0.163654  0.138287\n",
       "hazardous waste         0.873649   1.000000  0.000489  0.000977\n",
       "change oil              0.873587   0.000000  0.000000  0.000000\n",
       "filter                  0.873340   0.300000  0.001466  0.002917\n",
       "belts and hoses         0.873587   0.000000  0.000000  0.000000\n",
       "air filter              0.873587   0.000000  0.000000  0.000000\n",
       "safety systems          0.873587   0.000000  0.000000  0.000000\n",
       "nitro fill              0.873587   0.000000  0.000000  0.000000\n",
       "repair or refinish      0.873587   0.000000  0.000000  0.000000"
      ]
     },
     "execution_count": 167,
     "metadata": {},
     "output_type": "execute_result"
    }
   ],
   "source": [
    "svm_results"
   ]
  },
  {
   "cell_type": "markdown",
   "metadata": {},
   "source": [
    "## Logistic Regression"
   ]
  },
  {
   "cell_type": "code",
   "execution_count": 168,
   "metadata": {
    "collapsed": true
   },
   "outputs": [],
   "source": [
    "from sklearn.linear_model import LogisticRegression"
   ]
  },
  {
   "cell_type": "code",
   "execution_count": 170,
   "metadata": {},
   "outputs": [
    {
     "name": "stdout",
     "output_type": "stream",
     "text": [
      "Fitting y_bespoke\n",
      "Fitting 5 folds for each of 2 candidates, totalling 10 fits\n"
     ]
    },
    {
     "name": "stderr",
     "output_type": "stream",
     "text": [
      "[Parallel(n_jobs=1)]: Done  10 out of  10 | elapsed:    0.9s finished\n"
     ]
    },
    {
     "name": "stdout",
     "output_type": "stream",
     "text": [
      "Fitting y_multi_point_inspection\n",
      "Fitting 5 folds for each of 2 candidates, totalling 10 fits\n"
     ]
    },
    {
     "name": "stderr",
     "output_type": "stream",
     "text": [
      "[Parallel(n_jobs=1)]: Done  10 out of  10 | elapsed:    4.5s finished\n"
     ]
    },
    {
     "name": "stdout",
     "output_type": "stream",
     "text": [
      "Fitting y_battery_test\n",
      "Fitting 5 folds for each of 2 candidates, totalling 10 fits\n"
     ]
    },
    {
     "name": "stderr",
     "output_type": "stream",
     "text": [
      "[Parallel(n_jobs=1)]: Done  10 out of  10 | elapsed:    3.4s finished\n"
     ]
    },
    {
     "name": "stdout",
     "output_type": "stream",
     "text": [
      "Fitting y_tire_inflation\n",
      "Fitting 5 folds for each of 2 candidates, totalling 10 fits\n"
     ]
    },
    {
     "name": "stderr",
     "output_type": "stream",
     "text": [
      "[Parallel(n_jobs=1)]: Done  10 out of  10 | elapsed:    4.2s finished\n"
     ]
    },
    {
     "name": "stdout",
     "output_type": "stream",
     "text": [
      "Fitting y_hazardous_waste\n",
      "Fitting 5 folds for each of 2 candidates, totalling 10 fits\n"
     ]
    },
    {
     "name": "stderr",
     "output_type": "stream",
     "text": [
      "[Parallel(n_jobs=1)]: Done  10 out of  10 | elapsed:    2.7s finished\n"
     ]
    },
    {
     "name": "stdout",
     "output_type": "stream",
     "text": [
      "Fitting y_change_oil\n",
      "Fitting 5 folds for each of 2 candidates, totalling 10 fits\n"
     ]
    },
    {
     "name": "stderr",
     "output_type": "stream",
     "text": [
      "[Parallel(n_jobs=1)]: Done  10 out of  10 | elapsed:    2.9s finished\n"
     ]
    },
    {
     "name": "stdout",
     "output_type": "stream",
     "text": [
      "Fitting y_filter\n",
      "Fitting 5 folds for each of 2 candidates, totalling 10 fits\n"
     ]
    },
    {
     "name": "stderr",
     "output_type": "stream",
     "text": [
      "[Parallel(n_jobs=1)]: Done  10 out of  10 | elapsed:    1.8s finished\n"
     ]
    },
    {
     "name": "stdout",
     "output_type": "stream",
     "text": [
      "Fitting y_belts_and_hoses\n",
      "Fitting 5 folds for each of 2 candidates, totalling 10 fits\n"
     ]
    },
    {
     "name": "stderr",
     "output_type": "stream",
     "text": [
      "[Parallel(n_jobs=1)]: Done  10 out of  10 | elapsed:    2.2s finished\n"
     ]
    },
    {
     "name": "stdout",
     "output_type": "stream",
     "text": [
      "Fitting y_air_filter\n",
      "Fitting 5 folds for each of 2 candidates, totalling 10 fits\n"
     ]
    },
    {
     "name": "stderr",
     "output_type": "stream",
     "text": [
      "[Parallel(n_jobs=1)]: Done  10 out of  10 | elapsed:    1.7s finished\n"
     ]
    },
    {
     "name": "stdout",
     "output_type": "stream",
     "text": [
      "Fitting y_safety_systems\n",
      "Fitting 5 folds for each of 2 candidates, totalling 10 fits\n"
     ]
    },
    {
     "name": "stderr",
     "output_type": "stream",
     "text": [
      "[Parallel(n_jobs=1)]: Done  10 out of  10 | elapsed:    2.3s finished\n"
     ]
    },
    {
     "name": "stdout",
     "output_type": "stream",
     "text": [
      "Fitting y_nitro_fill\n",
      "Fitting 5 folds for each of 2 candidates, totalling 10 fits\n"
     ]
    },
    {
     "name": "stderr",
     "output_type": "stream",
     "text": [
      "[Parallel(n_jobs=1)]: Done  10 out of  10 | elapsed:    3.3s finished\n"
     ]
    },
    {
     "name": "stdout",
     "output_type": "stream",
     "text": [
      "Fitting y_repair_or_refinish\n",
      "Fitting 5 folds for each of 2 candidates, totalling 10 fits\n"
     ]
    },
    {
     "name": "stderr",
     "output_type": "stream",
     "text": [
      "[Parallel(n_jobs=1)]: Done  10 out of  10 | elapsed:    1.7s finished\n"
     ]
    }
   ],
   "source": [
    "lr_model_dict = {}\n",
    "\n",
    "for output_col in df_y.columns:\n",
    "    \n",
    "    print('Fitting', output_col)\n",
    "    y = df_y[output_col]\n",
    "    \n",
    "    parameter_grid = {\n",
    "                 'penalty': ['l1', 'l2']\n",
    "                 }\n",
    "    lr = LogisticRegression()\n",
    "    cross_validation = StratifiedKFold(y, n_folds=5)\n",
    "\n",
    "    grid_search = GridSearchCV(lr,\n",
    "                               scoring='f1',\n",
    "                               param_grid=parameter_grid,\n",
    "                               cv=cross_validation,\n",
    "                               verbose = 1)\n",
    "\n",
    "    grid_search.fit(x, y)\n",
    "    lr_model_dict[output_col] = grid_search"
   ]
  },
  {
   "cell_type": "code",
   "execution_count": 171,
   "metadata": {
    "collapsed": true
   },
   "outputs": [],
   "source": [
    "lr_results = pd.DataFrame()\n",
    "\n",
    "for output_col in df_y.columns:\n",
    "    \n",
    "    y_pred = lr_model_dict[output_col].predict(x)\n",
    "    \n",
    "    lr_results.loc[output_col, 'accuracy'] = sk.metrics.accuracy_score(y, y_pred)\n",
    "    lr_results.loc[output_col, 'precision'] = sk.metrics.precision_score(y, y_pred)\n",
    "    lr_results.loc[output_col, 'recall'] = sk.metrics.recall_score(y, y_pred)\n",
    "    lr_results.loc[output_col, 'f-score'] = sk.metrics.f1_score(y, y_pred)"
   ]
  },
  {
   "cell_type": "code",
   "execution_count": 172,
   "metadata": {},
   "outputs": [
    {
     "data": {
      "text/html": [
       "<div>\n",
       "<style>\n",
       "    .dataframe thead tr:only-child th {\n",
       "        text-align: right;\n",
       "    }\n",
       "\n",
       "    .dataframe thead th {\n",
       "        text-align: left;\n",
       "    }\n",
       "\n",
       "    .dataframe tbody tr th {\n",
       "        vertical-align: top;\n",
       "    }\n",
       "</style>\n",
       "<table border=\"1\" class=\"dataframe\">\n",
       "  <thead>\n",
       "    <tr style=\"text-align: right;\">\n",
       "      <th></th>\n",
       "      <th>accuracy</th>\n",
       "      <th>precision</th>\n",
       "      <th>recall</th>\n",
       "      <th>f-score</th>\n",
       "    </tr>\n",
       "  </thead>\n",
       "  <tbody>\n",
       "    <tr>\n",
       "      <th>y_bespoke</th>\n",
       "      <td>0.793862</td>\n",
       "      <td>0.056357</td>\n",
       "      <td>0.040059</td>\n",
       "      <td>0.046830</td>\n",
       "    </tr>\n",
       "    <tr>\n",
       "      <th>y_multi_point_inspection</th>\n",
       "      <td>0.682641</td>\n",
       "      <td>0.145413</td>\n",
       "      <td>0.309722</td>\n",
       "      <td>0.197909</td>\n",
       "    </tr>\n",
       "    <tr>\n",
       "      <th>y_battery_test</th>\n",
       "      <td>0.862595</td>\n",
       "      <td>0.138211</td>\n",
       "      <td>0.016610</td>\n",
       "      <td>0.029655</td>\n",
       "    </tr>\n",
       "    <tr>\n",
       "      <th>y_tire_inflation</th>\n",
       "      <td>0.762552</td>\n",
       "      <td>0.123534</td>\n",
       "      <td>0.144113</td>\n",
       "      <td>0.133033</td>\n",
       "    </tr>\n",
       "    <tr>\n",
       "      <th>y_hazardous_waste</th>\n",
       "      <td>0.867721</td>\n",
       "      <td>0.094017</td>\n",
       "      <td>0.005374</td>\n",
       "      <td>0.010166</td>\n",
       "    </tr>\n",
       "    <tr>\n",
       "      <th>y_change_oil</th>\n",
       "      <td>0.873649</td>\n",
       "      <td>1.000000</td>\n",
       "      <td>0.000489</td>\n",
       "      <td>0.000977</td>\n",
       "    </tr>\n",
       "    <tr>\n",
       "      <th>y_filter</th>\n",
       "      <td>0.873279</td>\n",
       "      <td>0.272727</td>\n",
       "      <td>0.001466</td>\n",
       "      <td>0.002915</td>\n",
       "    </tr>\n",
       "    <tr>\n",
       "      <th>y_belts_and_hoses</th>\n",
       "      <td>0.873587</td>\n",
       "      <td>0.000000</td>\n",
       "      <td>0.000000</td>\n",
       "      <td>0.000000</td>\n",
       "    </tr>\n",
       "    <tr>\n",
       "      <th>y_air_filter</th>\n",
       "      <td>0.873587</td>\n",
       "      <td>0.000000</td>\n",
       "      <td>0.000000</td>\n",
       "      <td>0.000000</td>\n",
       "    </tr>\n",
       "    <tr>\n",
       "      <th>y_safety_systems</th>\n",
       "      <td>0.873587</td>\n",
       "      <td>0.000000</td>\n",
       "      <td>0.000000</td>\n",
       "      <td>0.000000</td>\n",
       "    </tr>\n",
       "    <tr>\n",
       "      <th>y_nitro_fill</th>\n",
       "      <td>0.873587</td>\n",
       "      <td>0.000000</td>\n",
       "      <td>0.000000</td>\n",
       "      <td>0.000000</td>\n",
       "    </tr>\n",
       "    <tr>\n",
       "      <th>y_repair_or_refinish</th>\n",
       "      <td>0.873587</td>\n",
       "      <td>0.000000</td>\n",
       "      <td>0.000000</td>\n",
       "      <td>0.000000</td>\n",
       "    </tr>\n",
       "  </tbody>\n",
       "</table>\n",
       "</div>"
      ],
      "text/plain": [
       "                          accuracy  precision    recall   f-score\n",
       "y_bespoke                 0.793862   0.056357  0.040059  0.046830\n",
       "y_multi_point_inspection  0.682641   0.145413  0.309722  0.197909\n",
       "y_battery_test            0.862595   0.138211  0.016610  0.029655\n",
       "y_tire_inflation          0.762552   0.123534  0.144113  0.133033\n",
       "y_hazardous_waste         0.867721   0.094017  0.005374  0.010166\n",
       "y_change_oil              0.873649   1.000000  0.000489  0.000977\n",
       "y_filter                  0.873279   0.272727  0.001466  0.002915\n",
       "y_belts_and_hoses         0.873587   0.000000  0.000000  0.000000\n",
       "y_air_filter              0.873587   0.000000  0.000000  0.000000\n",
       "y_safety_systems          0.873587   0.000000  0.000000  0.000000\n",
       "y_nitro_fill              0.873587   0.000000  0.000000  0.000000\n",
       "y_repair_or_refinish      0.873587   0.000000  0.000000  0.000000"
      ]
     },
     "execution_count": 172,
     "metadata": {},
     "output_type": "execute_result"
    }
   ],
   "source": [
    "lr_results"
   ]
  },
  {
   "cell_type": "markdown",
   "metadata": {},
   "source": [
    "## Principal Components Analysis"
   ]
  },
  {
   "cell_type": "code",
   "execution_count": 177,
   "metadata": {},
   "outputs": [],
   "source": [
    "x_pca = scaler.fit_transform(x.fillna(df_x.median()))"
   ]
  },
  {
   "cell_type": "code",
   "execution_count": 175,
   "metadata": {
    "collapsed": true
   },
   "outputs": [],
   "source": [
    "from sklearn.decomposition import PCA"
   ]
  },
  {
   "cell_type": "code",
   "execution_count": 184,
   "metadata": {},
   "outputs": [
    {
     "data": {
      "text/plain": [
       "array([[-0.98437452, -0.46619281, -0.28176127, ...,  1.83110813,\n",
       "        -0.1550189 , -0.42283237],\n",
       "       [ 1.01587351, -0.46619281, -0.28176127, ...,  1.83110813,\n",
       "        -0.1550189 , -0.42283237],\n",
       "       [ 1.01587351, -0.46619281, -0.28176127, ..., -0.54611739,\n",
       "        -0.1550189 , -0.42283237],\n",
       "       ..., \n",
       "       [-0.98437452,  2.14503521, -0.28176127, ..., -0.54611739,\n",
       "        -0.1550189 , -0.42283237],\n",
       "       [-0.98437452,  2.14503521, -0.28176127, ..., -0.54611739,\n",
       "        -0.1550189 , -0.42283237],\n",
       "       [-0.98437452,  2.14503521, -0.28176127, ..., -0.54611739,\n",
       "        -0.1550189 , -0.42283237]])"
      ]
     },
     "execution_count": 184,
     "metadata": {},
     "output_type": "execute_result"
    }
   ],
   "source": [
    "x_pca"
   ]
  },
  {
   "cell_type": "code",
   "execution_count": 182,
   "metadata": {},
   "outputs": [],
   "source": [
    "y_pca = df_y['y_repair_or_refinish']"
   ]
  },
  {
   "cell_type": "code",
   "execution_count": 211,
   "metadata": {
    "scrolled": true
   },
   "outputs": [
    {
     "name": "stdout",
     "output_type": "stream",
     "text": [
      "explained variance ratio (first two components): [ 0.12615329  0.10063317]\n"
     ]
    },
    {
     "data": {
      "image/png": "[encoded data removed]",
      "text/plain": [
       "<matplotlib.figure.Figure at 0x1184c4a90>"
      ]
     },
     "metadata": {},
     "output_type": "display_data"
    }
   ],
   "source": [
    "target_names = ['0: no repair/refinish required', '1: repair/refinish required']\n",
    "\n",
    "pca = PCA(n_components=2)\n",
    "X_r = pca.fit(x_pca).transform(x_pca)\n",
    "\n",
    "# Percentage of variance explained for each components\n",
    "print('explained variance ratio (first two components): %s'\n",
    "      % str(pca.explained_variance_ratio_))\n",
    "\n",
    "plt.figure(figsize = (9,6))\n",
    "colors = ['navy', 'turquoise']\n",
    "lw = 2\n",
    "\n",
    "for color, i, target_name in zip(colors, [0, 1], target_names):\n",
    "    plt.scatter(X_r[y_pca == i, 0], X_r[y_pca == i, 1], color=color, alpha=.8, lw=lw,\n",
    "                label=target_name)\n",
    "plt.legend(loc='upper left', shadow=False, scatterpoints=1)\n",
    "sns.despine()\n",
    "plt.show()"
   ]
  }
 ],
 "metadata": {
  "kernelspec": {
   "display_name": "Python 3",
   "language": "python",
   "name": "python3"
  },
  "language_info": {
   "codemirror_mode": {
    "name": "ipython",
    "version": 3
   },
   "file_extension": ".py",
   "mimetype": "text/x-python",
   "name": "python",
   "nbconvert_exporter": "python",
   "pygments_lexer": "ipython3",
   "version": "3.6.1"
  }
 },
 "nbformat": 4,
 "nbformat_minor": 2
}
